{
 "cells": [
  {
   "cell_type": "code",
   "execution_count": 1,
   "id": "67d129fb",
   "metadata": {
    "ExecuteTime": {
     "end_time": "2023-11-27T07:47:07.745720Z",
     "start_time": "2023-11-27T07:47:06.803556Z"
    }
   },
   "outputs": [],
   "source": [
    "import janitor\n",
    "import pandas as pd\n",
    "import numpy as np\n",
    "from statsmodels.tsa.api import VAR\n",
    "from statsmodels.tsa.stattools import adfuller, kpss\n",
    "from scipy.linalg import LinAlgError\n",
    "\n",
    "import matplotlib.pyplot as plt\n",
    "import seaborn as sns\n",
    "sns.set_theme(\n",
    "    context=\"notebook\", font_scale=1.5, style=\"whitegrid\", palette=\"dark\"\n",
    ")  #  Darkgrid Whitegrid Dark White Ticks\n",
    "\n",
    "from IPython.display import display\n",
    "from tqdm.notebook import tqdm\n",
    "# from tqdm import tqdm\n",
    "\n",
    "import warnings\n",
    "warnings.filterwarnings(\"ignore\")\n",
    "\n",
    "installer_type_dict = {\n",
    "    \"pip\": \"human\",\n",
    "    \"Browser\": \"bot\",\n",
    "    \"bandersnatch\": \"bot\",\n",
    "    \"setuptools\": \"human\",\n",
    "    \"Nexus\": \"human\",\n",
    "    \"requests\": \"bot\",\n",
    "    \"devpi\": \"bot\",\n",
    "    \"pdm\": \"human\",\n",
    "    \"Homebrew\": \"human\",\n",
    "    \"Artifactory\": \"human\",\n",
    "    \"OS\": \"human\",\n",
    "    \"Bazel\": \"human\",\n",
    "    \"pex\": \"human\",\n",
    "    \"conda\": \"human\",\n",
    "    \"chaquopy\": \"human\",\n",
    "}\n",
    "\n",
    "start_date = '2023-03-06'\n",
    "end_date = '2023-06-04'\n",
    "date_range = pd.date_range(start=start_date, end=end_date, freq='D')\n",
    "assert 91 == len(date_range)"
   ]
  },
  {
   "cell_type": "code",
   "execution_count": 2,
   "id": "aa92cf21",
   "metadata": {
    "ExecuteTime": {
     "end_time": "2023-11-27T07:47:07.756225Z",
     "start_time": "2023-11-27T07:47:07.747985Z"
    }
   },
   "outputs": [],
   "source": [
    "if False:\n",
    "    # 50k pypi packages for 90 days\n",
    "    download_threshold = 50\n",
    "    df = (\n",
    "        pd.read_csv(\n",
    "            \"../data/bq_50kpypi_packages_90days_20230604-052137-1685856167197.csv\"\n",
    "        )\n",
    "        .rename_column(\"file_project\", \"pkg\")\n",
    "        .rename_column(\"timestamp_date\", \"date\")\n",
    "        .assign(date=lambda df: pd.to_datetime(df[\"date\"]))\n",
    "        # Get bot or human based on installer\n",
    "        .assign(installer_type=lambda df: df[\"installer_name\"].map(installer_type_dict))\n",
    "        # Get downloads by bot vs human installations\n",
    "        .pivot_table(\n",
    "            index=[\"date\", \"pkg\"],\n",
    "            columns=\"installer_type\",\n",
    "            values=\"downloads\",\n",
    "            fill_value=0,\n",
    "        )\n",
    "        .astype(int)\n",
    "        .reset_index()\n",
    "        .sort_values([\"pkg\", \"date\"], ignore_index=True)\n",
    "        # Filter to at least 50 human downloads\n",
    "        .pipe(lambda df: df.query(f\"pkg in @df.groupby('pkg')['human'].sum().reset_index().query('human > {download_threshold}')['pkg'].unique()\"))\n",
    "        # Fill in missing dates with zero\n",
    "        .groupby('pkg')\n",
    "        .apply(lambda x: x.set_index('date').asfreq('D').reindex(date_range))\n",
    "        .remove_columns(\"pkg\")\n",
    "        .fillna(0).astype(int)\n",
    "        .reset_index()\n",
    "        .rename_column(\"level_1\", \"date\")\n",
    "    )\n",
    "    print(df[\"date\"].nunique())\n",
    "    print(df[\"pkg\"].nunique())\n",
    "    # df.to_csv(\"../data/allpypi-dl-30days.csv\", index=False)\n",
    "    assert len(df)==df[\"date\"].nunique() * df[\"pkg\"].nunique()\n",
    "    display(df)"
   ]
  },
  {
   "cell_type": "code",
   "execution_count": 3,
   "id": "cf804495",
   "metadata": {
    "ExecuteTime": {
     "end_time": "2023-11-27T07:47:07.768153Z",
     "start_time": "2023-11-27T07:47:07.759035Z"
    }
   },
   "outputs": [],
   "source": [
    "if False:\n",
    "    packages = df[\"pkg\"].unique().tolist()\n",
    "    results = []\n",
    "    for ix, package in tqdm(enumerate(packages), total=len(packages)):\n",
    "        # ====================================================================\n",
    "        # Get package timeseries\n",
    "        df_ = df.query(f\"pkg=='{package}'\").remove_columns(\"pkg\").set_index(\"date\")\n",
    "        if len(df_) < 14:\n",
    "            print(\"err\")\n",
    "            continue\n",
    "\n",
    "        # ====================================================================\n",
    "        # Estimate VAR\n",
    "        maxlags = 21\n",
    "        model = VAR(df_)\n",
    "        var = None\n",
    "        while maxlags > 0:\n",
    "            try:\n",
    "                var = model.fit(maxlags=maxlags, ic=\"aic\")\n",
    "                break  # Exit the loop if the model estimation succeeds\n",
    "            except ValueError as e:\n",
    "    #             \"x contains one or more constant columns. Column(s) 9 are constant. Adding a constant with trend='c' is not allowed.\"\n",
    "    #             \"maxlags is too large for the number of observations and the number of equations. The largest model cannot be estimated.\"\n",
    "                maxlags -= 1 \n",
    "            except LinAlgError as lae:\n",
    "    #             print(package)\n",
    "    #             print(str(lae))\n",
    "    #             print(maxlags)\n",
    "                maxlags -= 1 \n",
    "        if var is None:\n",
    "            continue\n",
    "\n",
    "        # ====================================================================\n",
    "        # Granger test -------------------------------------------------------\n",
    "        nlags = var.k_ar\n",
    "        if nlags == 0:\n",
    "            granger_pval_human_bot = np.nan\n",
    "            granger_pval_human_human = np.nan\n",
    "            granger_pval_bot_human = np.nan\n",
    "            granger_pval_bot_bot = np.nan\n",
    "\n",
    "        elif nlags > 0:\n",
    "            try:\n",
    "                # human -> bot\n",
    "                granger_pval_human_bot = var.test_causality(\n",
    "                    caused=\"bot\", causing=\"human\"\n",
    "                ).pvalue\n",
    "                # human -> human\n",
    "                granger_pval_human_human = var.test_causality(\n",
    "                    caused=\"human\", causing=\"human\"\n",
    "                ).pvalue\n",
    "                # bot -> human\n",
    "                granger_pval_bot_human = var.test_causality(\n",
    "                    caused=\"human\", causing=\"bot\"\n",
    "                ).pvalue\n",
    "                # bot -> bot\n",
    "                granger_pval_bot_bot = var.test_causality(caused=\"bot\", causing=\"bot\").pvalue\n",
    "            except LinAlgError:\n",
    "                granger_pval_human_bot = np.nan\n",
    "                granger_pval_human_human = np.nan\n",
    "                granger_pval_bot_human = np.nan\n",
    "                granger_pval_bot_bot = np.nan\n",
    "\n",
    "        # ====================================================================\n",
    "        # Check unit root ----------------------------------------------------\n",
    "        # ADF\n",
    "        try:\n",
    "            adf_pval_human = adfuller(df_[\"human\"], autolag=\"AIC\")[1]\n",
    "            adf_pval_bot = adfuller(df_[\"human\"], autolag=\"AIC\")[1]\n",
    "        except OverflowError:\n",
    "            adf_pval_human = np.nan\n",
    "            adf_pval_bot = np.nan\n",
    "        # KPSS\n",
    "        try:\n",
    "            kpss_pval_human = kpss(df_[\"bot\"], regression=\"c\")[1]\n",
    "            kpss_pval_bot = kpss(df_[\"bot\"], regression=\"c\")[1]\n",
    "        except OverflowError:\n",
    "            kpss_pval_human = np.nan\n",
    "            kpss_pval_bot = np.nan        \n",
    "\n",
    "\n",
    "        # ====================================================================\n",
    "        # White test\n",
    "        if nlags > maxlags:\n",
    "            # ValueError: The whiteness test can only be used when nlags is larger than the number of lags included in the model (18).\n",
    "            try:\n",
    "                white_pval = var.test_whiteness().pvalue\n",
    "            except LinAlgError:\n",
    "                white_pval = np.nan\n",
    "        else:\n",
    "            white_pval = np.nan\n",
    "\n",
    "        results.append(\n",
    "            [\n",
    "                package,\n",
    "                nlags,\n",
    "                granger_pval_human_bot,\n",
    "                granger_pval_human_human,\n",
    "                granger_pval_bot_human,\n",
    "                granger_pval_bot_bot,\n",
    "                adf_pval_human,\n",
    "                adf_pval_bot,\n",
    "                kpss_pval_human,\n",
    "                kpss_pval_bot,\n",
    "                white_pval,\n",
    "            ]\n",
    "        )"
   ]
  },
  {
   "cell_type": "code",
   "execution_count": 4,
   "id": "987d0b5e",
   "metadata": {
    "ExecuteTime": {
     "end_time": "2023-11-27T07:47:07.814095Z",
     "start_time": "2023-11-27T07:47:07.771056Z"
    }
   },
   "outputs": [
    {
     "data": {
      "text/html": [
       "<div>\n",
       "<style scoped>\n",
       "    .dataframe tbody tr th:only-of-type {\n",
       "        vertical-align: middle;\n",
       "    }\n",
       "\n",
       "    .dataframe tbody tr th {\n",
       "        vertical-align: top;\n",
       "    }\n",
       "\n",
       "    .dataframe thead th {\n",
       "        text-align: right;\n",
       "    }\n",
       "</style>\n",
       "<table border=\"1\" class=\"dataframe\">\n",
       "  <thead>\n",
       "    <tr style=\"text-align: right;\">\n",
       "      <th></th>\n",
       "      <th>pkg</th>\n",
       "      <th>nlags</th>\n",
       "      <th>granger_pval_human_bot</th>\n",
       "      <th>granger_pval_human_human</th>\n",
       "      <th>granger_pval_bot_human</th>\n",
       "      <th>granger_pval_bot_bot</th>\n",
       "      <th>adf_pval_human</th>\n",
       "      <th>adf_pval_bot</th>\n",
       "      <th>kpss_pval_human</th>\n",
       "      <th>kpss_pval_bot</th>\n",
       "      <th>white_pval</th>\n",
       "    </tr>\n",
       "  </thead>\n",
       "  <tbody>\n",
       "    <tr>\n",
       "      <th>0</th>\n",
       "      <td>0-orchestrator</td>\n",
       "      <td>0</td>\n",
       "      <td>NaN</td>\n",
       "      <td>NaN</td>\n",
       "      <td>NaN</td>\n",
       "      <td>NaN</td>\n",
       "      <td>5.834368e-14</td>\n",
       "      <td>5.834368e-14</td>\n",
       "      <td>0.1</td>\n",
       "      <td>0.1</td>\n",
       "      <td>NaN</td>\n",
       "    </tr>\n",
       "    <tr>\n",
       "      <th>1</th>\n",
       "      <td>0rest</td>\n",
       "      <td>0</td>\n",
       "      <td>NaN</td>\n",
       "      <td>NaN</td>\n",
       "      <td>NaN</td>\n",
       "      <td>NaN</td>\n",
       "      <td>9.856849e-01</td>\n",
       "      <td>9.856849e-01</td>\n",
       "      <td>0.1</td>\n",
       "      <td>0.1</td>\n",
       "      <td>NaN</td>\n",
       "    </tr>\n",
       "    <tr>\n",
       "      <th>2</th>\n",
       "      <td>0x01-autocert-dns-aliyun</td>\n",
       "      <td>0</td>\n",
       "      <td>NaN</td>\n",
       "      <td>NaN</td>\n",
       "      <td>NaN</td>\n",
       "      <td>NaN</td>\n",
       "      <td>3.625030e-15</td>\n",
       "      <td>3.625030e-15</td>\n",
       "      <td>0.1</td>\n",
       "      <td>0.1</td>\n",
       "      <td>NaN</td>\n",
       "    </tr>\n",
       "  </tbody>\n",
       "</table>\n",
       "</div>"
      ],
      "text/plain": [
       "                        pkg  nlags  granger_pval_human_bot  \\\n",
       "0            0-orchestrator      0                     NaN   \n",
       "1                     0rest      0                     NaN   \n",
       "2  0x01-autocert-dns-aliyun      0                     NaN   \n",
       "\n",
       "   granger_pval_human_human  granger_pval_bot_human  granger_pval_bot_bot  \\\n",
       "0                       NaN                     NaN                   NaN   \n",
       "1                       NaN                     NaN                   NaN   \n",
       "2                       NaN                     NaN                   NaN   \n",
       "\n",
       "   adf_pval_human  adf_pval_bot  kpss_pval_human  kpss_pval_bot  white_pval  \n",
       "0    5.834368e-14  5.834368e-14              0.1            0.1         NaN  \n",
       "1    9.856849e-01  9.856849e-01              0.1            0.1         NaN  \n",
       "2    3.625030e-15  3.625030e-15              0.1            0.1         NaN  "
      ]
     },
     "metadata": {},
     "output_type": "display_data"
    },
    {
     "name": "stdout",
     "output_type": "stream",
     "text": [
      "<class 'pandas.core.frame.DataFrame'>\n",
      "RangeIndex: 13481 entries, 0 to 13480\n",
      "Data columns (total 11 columns):\n",
      " #   Column                    Non-Null Count  Dtype  \n",
      "---  ------                    --------------  -----  \n",
      " 0   pkg                       13481 non-null  object \n",
      " 1   nlags                     13481 non-null  int64  \n",
      " 2   granger_pval_human_bot    6620 non-null   float64\n",
      " 3   granger_pval_human_human  6620 non-null   float64\n",
      " 4   granger_pval_bot_human    6620 non-null   float64\n",
      " 5   granger_pval_bot_bot      6620 non-null   float64\n",
      " 6   adf_pval_human            13481 non-null  float64\n",
      " 7   adf_pval_bot              13481 non-null  float64\n",
      " 8   kpss_pval_human           13481 non-null  float64\n",
      " 9   kpss_pval_bot             13481 non-null  float64\n",
      " 10  white_pval                0 non-null      float64\n",
      "dtypes: float64(9), int64(1), object(1)\n",
      "memory usage: 1.1+ MB\n"
     ]
    }
   ],
   "source": [
    "if False:\n",
    "    df_pkg_var_results = pd.DataFrame(\n",
    "        data=results,\n",
    "        columns=[\n",
    "            \"pkg\",\n",
    "            \"nlags\",\n",
    "            \"granger_pval_human_bot\",\n",
    "            \"granger_pval_human_human\",\n",
    "            \"granger_pval_bot_human\",\n",
    "            \"granger_pval_bot_bot\",\n",
    "            \"adf_pval_human\",\n",
    "            \"adf_pval_bot\",\n",
    "            \"kpss_pval_human\",\n",
    "            \"kpss_pval_bot\",\n",
    "            \"white_pval\",\n",
    "        ],\n",
    "    )\n",
    "    df_pkg_var_results.to_csv(\"../data/var_one_by_one_50kpypi_90days.csv\", index=False)\n",
    "    \n",
    "df_pkg_var_results = pd.read_csv(\"../data/var_one_by_one_50kpypi_90days.csv\")\n",
    "display(df_pkg_var_results.head(3))\n",
    "df_pkg_var_results.info()    "
   ]
  },
  {
   "cell_type": "code",
   "execution_count": 5,
   "id": "702a3154",
   "metadata": {
    "ExecuteTime": {
     "end_time": "2023-11-27T07:47:07.832817Z",
     "start_time": "2023-11-27T07:47:07.815926Z"
    }
   },
   "outputs": [
    {
     "data": {
      "text/html": [
       "<div>\n",
       "<style scoped>\n",
       "    .dataframe tbody tr th:only-of-type {\n",
       "        vertical-align: middle;\n",
       "    }\n",
       "\n",
       "    .dataframe tbody tr th {\n",
       "        vertical-align: top;\n",
       "    }\n",
       "\n",
       "    .dataframe thead th {\n",
       "        text-align: right;\n",
       "    }\n",
       "</style>\n",
       "<table border=\"1\" class=\"dataframe\">\n",
       "  <thead>\n",
       "    <tr style=\"text-align: right;\">\n",
       "      <th></th>\n",
       "      <th>granger_pval_human_bot</th>\n",
       "      <th>granger_pval_human_human</th>\n",
       "      <th>granger_pval_bot_human</th>\n",
       "      <th>granger_pval_bot_bot</th>\n",
       "    </tr>\n",
       "  </thead>\n",
       "  <tbody>\n",
       "    <tr>\n",
       "      <th>count</th>\n",
       "      <td>6620.000</td>\n",
       "      <td>6620.000</td>\n",
       "      <td>6620.000</td>\n",
       "      <td>6620.000</td>\n",
       "    </tr>\n",
       "    <tr>\n",
       "      <th>mean</th>\n",
       "      <td>0.345</td>\n",
       "      <td>0.148</td>\n",
       "      <td>0.342</td>\n",
       "      <td>0.354</td>\n",
       "    </tr>\n",
       "    <tr>\n",
       "      <th>std</th>\n",
       "      <td>0.313</td>\n",
       "      <td>0.279</td>\n",
       "      <td>0.314</td>\n",
       "      <td>0.320</td>\n",
       "    </tr>\n",
       "    <tr>\n",
       "      <th>min</th>\n",
       "      <td>0.000</td>\n",
       "      <td>0.000</td>\n",
       "      <td>0.000</td>\n",
       "      <td>0.000</td>\n",
       "    </tr>\n",
       "    <tr>\n",
       "      <th>25%</th>\n",
       "      <td>0.050</td>\n",
       "      <td>0.000</td>\n",
       "      <td>0.047</td>\n",
       "      <td>0.046</td>\n",
       "    </tr>\n",
       "    <tr>\n",
       "      <th>50%</th>\n",
       "      <td>0.264</td>\n",
       "      <td>0.002</td>\n",
       "      <td>0.252</td>\n",
       "      <td>0.276</td>\n",
       "    </tr>\n",
       "    <tr>\n",
       "      <th>75%</th>\n",
       "      <td>0.603</td>\n",
       "      <td>0.116</td>\n",
       "      <td>0.601</td>\n",
       "      <td>0.621</td>\n",
       "    </tr>\n",
       "    <tr>\n",
       "      <th>max</th>\n",
       "      <td>1.000</td>\n",
       "      <td>1.000</td>\n",
       "      <td>1.000</td>\n",
       "      <td>1.000</td>\n",
       "    </tr>\n",
       "  </tbody>\n",
       "</table>\n",
       "</div>"
      ],
      "text/plain": [
       "       granger_pval_human_bot  granger_pval_human_human  \\\n",
       "count                6620.000                  6620.000   \n",
       "mean                    0.345                     0.148   \n",
       "std                     0.313                     0.279   \n",
       "min                     0.000                     0.000   \n",
       "25%                     0.050                     0.000   \n",
       "50%                     0.264                     0.002   \n",
       "75%                     0.603                     0.116   \n",
       "max                     1.000                     1.000   \n",
       "\n",
       "       granger_pval_bot_human  granger_pval_bot_bot  \n",
       "count                6620.000              6620.000  \n",
       "mean                    0.342                 0.354  \n",
       "std                     0.314                 0.320  \n",
       "min                     0.000                 0.000  \n",
       "25%                     0.047                 0.046  \n",
       "50%                     0.252                 0.276  \n",
       "75%                     0.601                 0.621  \n",
       "max                     1.000                 1.000  "
      ]
     },
     "execution_count": 5,
     "metadata": {},
     "output_type": "execute_result"
    }
   ],
   "source": [
    "df_pkg_var_results.filter(like=\"granger_pval\").describe().round(3)"
   ]
  },
  {
   "cell_type": "code",
   "execution_count": 6,
   "id": "d35bb416",
   "metadata": {
    "ExecuteTime": {
     "end_time": "2023-11-27T07:47:07.838343Z",
     "start_time": "2023-11-27T07:47:07.834829Z"
    }
   },
   "outputs": [],
   "source": [
    "sns.set_theme(context=\"notebook\", font_scale=1.5, style=\"whitegrid\")\n",
    "histplot_opts = dict(color=\"0.1\",\n",
    "    stat=\"density\",\n",
    "    kde=True,\n",
    "    bins=100,)\n",
    "annotate_opts = dict(\n",
    "    text='50th percentile',\n",
    "    va=\"center\", ha=\"left\", \n",
    "    fontsize=18,\n",
    "    arrowprops=dict(facecolor='black',)\n",
    ")\n",
    "vline_opts = dict(ls=(0, (5, 5)), color=\"navy\", lw=1.2, alpha=.8)"
   ]
  },
  {
   "cell_type": "code",
   "execution_count": 7,
   "id": "aea8448b",
   "metadata": {
    "ExecuteTime": {
     "end_time": "2023-11-27T07:47:08.704243Z",
     "start_time": "2023-11-27T07:47:07.840212Z"
    }
   },
   "outputs": [
    {
     "data": {
      "image/png": "[encoded data removed]",
      "text/plain": [
       "<Figure size 576x432 with 1 Axes>"
      ]
     },
     "metadata": {
      "needs_background": "light"
     },
     "output_type": "display_data"
    }
   ],
   "source": [
    "_, ax = plt.subplots(figsize=(8,6))\n",
    "\n",
    "_x = \"granger_pval_human_human\"\n",
    "sns.histplot(\n",
    "    data=df_pkg_var_results, \n",
    "    x=_x, \n",
    "    ax=ax,\n",
    "    **histplot_opts,\n",
    ")\n",
    "# Annotate median\n",
    "_median = df_pkg_var_results[_x].median()\n",
    "plt.axvline(_median, **vline_opts)\n",
    "ax.annotate(**annotate_opts,\n",
    "            xy=(_median, 30), \n",
    "            xytext=(_median+.1, 30),\n",
    "           )\n",
    "y_lower, y_upper = ax.get_ylim()\n",
    "plt.xlabel(\"P-values\")\n",
    "savepath = \"../figs/50kpypi_90days_human2human\"\n",
    "plt.savefig(f\"{savepath}.pdf\", dpi=None, bbox_inches=\"tight\", pad_inches=0)\n",
    "plt.savefig(f\"{savepath}.png\", dpi=120, bbox_inches=\"tight\", pad_inches=0)"
   ]
  },
  {
   "cell_type": "code",
   "execution_count": 8,
   "id": "86cebad2",
   "metadata": {
    "ExecuteTime": {
     "end_time": "2023-11-27T07:47:09.490783Z",
     "start_time": "2023-11-27T07:47:08.706483Z"
    }
   },
   "outputs": [
    {
     "data": {
      "image/png": "[encoded data removed]",
      "text/plain": [
       "<Figure size 576x432 with 1 Axes>"
      ]
     },
     "metadata": {
      "needs_background": "light"
     },
     "output_type": "display_data"
    }
   ],
   "source": [
    "_, ax = plt.subplots(figsize=(8,6))\n",
    "\n",
    "_x = \"granger_pval_bot_human\"\n",
    "sns.histplot(\n",
    "    data=df_pkg_var_results, \n",
    "    x=_x, \n",
    "    ax=ax,\n",
    "    **histplot_opts,\n",
    ")\n",
    "# Annotate median\n",
    "_median = df_pkg_var_results[_x].median()\n",
    "plt.axvline(_median, **vline_opts)\n",
    "ax.annotate(**annotate_opts,\n",
    "            xy=(_median, 30), \n",
    "            xytext=(_median+.1, 30),\n",
    "           )\n",
    "ax.set_ylim(y_lower, y_upper)\n",
    "plt.xlabel(\"P-values\")\n",
    "savepath = \"../figs/50kpypi_90days_bot2human\"\n",
    "plt.savefig(f\"{savepath}.pdf\", dpi=None, bbox_inches=\"tight\", pad_inches=0)\n",
    "plt.savefig(f\"{savepath}.png\", dpi=120, bbox_inches=\"tight\", pad_inches=0)"
   ]
  },
  {
   "cell_type": "code",
   "execution_count": 9,
   "id": "c6723a7d",
   "metadata": {
    "ExecuteTime": {
     "end_time": "2023-11-27T07:47:10.346751Z",
     "start_time": "2023-11-27T07:47:09.492986Z"
    }
   },
   "outputs": [
    {
     "data": {
      "image/png": "[encoded data removed]",
      "text/plain": [
       "<Figure size 576x432 with 1 Axes>"
      ]
     },
     "metadata": {
      "needs_background": "light"
     },
     "output_type": "display_data"
    }
   ],
   "source": [
    "_, ax = plt.subplots(figsize=(8,6))\n",
    "\n",
    "_x = \"granger_pval_human_bot\"\n",
    "sns.histplot(\n",
    "    data=df_pkg_var_results, \n",
    "    x=_x, \n",
    "    ax=ax,\n",
    "    **histplot_opts,\n",
    ")\n",
    "# Annotate median\n",
    "_median = df_pkg_var_results[_x].median()\n",
    "plt.axvline(_median, **vline_opts)\n",
    "ax.annotate(**annotate_opts,\n",
    "            xy=(_median, 30), \n",
    "            xytext=(_median+.1, 30),\n",
    "           )\n",
    "ax.set_ylim(y_lower, y_upper)\n",
    "plt.xlabel(\"P-values\")\n",
    "savepath = \"../figs/50kpypi_90days_human2bot\"\n",
    "plt.savefig(f\"{savepath}.pdf\", dpi=None, bbox_inches=\"tight\", pad_inches=0)\n",
    "plt.savefig(f\"{savepath}.png\", dpi=120, bbox_inches=\"tight\", pad_inches=0)"
   ]
  },
  {
   "cell_type": "code",
   "execution_count": 10,
   "id": "c8f52329",
   "metadata": {
    "ExecuteTime": {
     "end_time": "2023-11-27T07:47:11.128196Z",
     "start_time": "2023-11-27T07:47:10.349051Z"
    }
   },
   "outputs": [
    {
     "data": {
      "image/png": "[encoded data removed]",
      "text/plain": [
       "<Figure size 576x432 with 1 Axes>"
      ]
     },
     "metadata": {
      "needs_background": "light"
     },
     "output_type": "display_data"
    }
   ],
   "source": [
    "_, ax = plt.subplots(figsize=(8,6))\n",
    "\n",
    "_x = \"granger_pval_bot_bot\"\n",
    "sns.histplot(\n",
    "    data=df_pkg_var_results, \n",
    "    x=_x, \n",
    "    ax=ax,\n",
    "    **histplot_opts,\n",
    ")\n",
    "# Annotate median\n",
    "_median = df_pkg_var_results[_x].median()\n",
    "plt.axvline(_median, **vline_opts)\n",
    "ax.annotate(**annotate_opts,\n",
    "            xy=(_median, 30), \n",
    "            xytext=(_median+.1, 30),\n",
    "           )\n",
    "ax.set_ylim(y_lower, y_upper)\n",
    "plt.xlabel(\"P-values\")\n",
    "savepath = \"../figs/50kpypi_90days_bot2bot\"\n",
    "plt.savefig(f\"{savepath}.pdf\", dpi=None, bbox_inches=\"tight\", pad_inches=0)\n",
    "plt.savefig(f\"{savepath}.png\", dpi=120, bbox_inches=\"tight\", pad_inches=0)"
   ]
  },
  {
   "cell_type": "code",
   "execution_count": null,
   "id": "a662d999",
   "metadata": {},
   "outputs": [],
   "source": []
  }
 ],
 "metadata": {
  "kernelspec": {
   "display_name": "Python 3 (ipykernel)",
   "language": "python",
   "name": "python3"
  },
  "language_info": {
   "codemirror_mode": {
    "name": "ipython",
    "version": 3
   },
   "file_extension": ".py",
   "mimetype": "text/x-python",
   "name": "python",
   "nbconvert_exporter": "python",
   "pygments_lexer": "ipython3",
   "version": "3.10.11"
  },
  "toc": {
   "base_numbering": 1,
   "nav_menu": {},
   "number_sections": true,
   "sideBar": true,
   "skip_h1_title": false,
   "title_cell": "Table of Contents",
   "title_sidebar": "Contents",
   "toc_cell": false,
   "toc_position": {},
   "toc_section_display": true,
   "toc_window_display": false
  }
 },
 "nbformat": 4,
 "nbformat_minor": 5
}
