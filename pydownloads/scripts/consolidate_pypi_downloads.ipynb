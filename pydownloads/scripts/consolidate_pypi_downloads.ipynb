{
 "cells": [
  {
   "cell_type": "code",
   "execution_count": 1,
   "id": "354243e0",
   "metadata": {
    "ExecuteTime": {
     "end_time": "2024-08-08T07:50:16.826664Z",
     "start_time": "2024-08-08T07:50:15.301940Z"
    }
   },
   "outputs": [],
   "source": [
    "import janitor\n",
    "import matplotlib.dates as mdates\n",
    "import matplotlib.pyplot as plt\n",
    "import matplotlib.ticker as ticker\n",
    "from matplotlib.patches import Patch\n",
    "from typing import Callable, List, Tuple, Optional, Iterable\n",
    "\n",
    "import sidetable\n",
    "import numpy as np\n",
    "import pandas as pd\n",
    "import seaborn as sns\n",
    "\n",
    "sns.set_theme(context=\"notebook\", font_scale=1.1, style=\"whitegrid\", palette=\"gray\")\n",
    "\n",
    "import warnings\n",
    "\n",
    "warnings.filterwarnings(\"ignore\")"
   ]
  },
  {
   "cell_type": "markdown",
   "id": "d06ef140",
   "metadata": {},
   "source": [
    "## Prep data"
   ]
  },
  {
   "cell_type": "code",
   "execution_count": 2,
   "id": "54e35761",
   "metadata": {
    "ExecuteTime": {
     "end_time": "2024-08-08T07:50:21.269083Z",
     "start_time": "2024-08-08T07:50:17.471057Z"
    },
    "code_folding": [],
    "scrolled": false
   },
   "outputs": [
    {
     "data": {
      "text/html": [
       "<div>\n",
       "<style scoped>\n",
       "    .dataframe tbody tr th:only-of-type {\n",
       "        vertical-align: middle;\n",
       "    }\n",
       "\n",
       "    .dataframe tbody tr th {\n",
       "        vertical-align: top;\n",
       "    }\n",
       "\n",
       "    .dataframe thead th {\n",
       "        text-align: right;\n",
       "    }\n",
       "</style>\n",
       "<table border=\"1\" class=\"dataframe\">\n",
       "  <thead>\n",
       "    <tr style=\"text-align: right;\">\n",
       "      <th></th>\n",
       "      <th>file_project</th>\n",
       "      <th>date</th>\n",
       "      <th>downloads</th>\n",
       "      <th>tt_downloads</th>\n",
       "      <th>treatment</th>\n",
       "    </tr>\n",
       "  </thead>\n",
       "  <tbody>\n",
       "    <tr>\n",
       "      <th>0</th>\n",
       "      <td>0-orchestrator</td>\n",
       "      <td>2023-05-21</td>\n",
       "      <td>1.0</td>\n",
       "      <td>1.0</td>\n",
       "      <td>0</td>\n",
       "    </tr>\n",
       "    <tr>\n",
       "      <th>1</th>\n",
       "      <td>0-orchestrator</td>\n",
       "      <td>2023-05-22</td>\n",
       "      <td>1.0</td>\n",
       "      <td>2.0</td>\n",
       "      <td>0</td>\n",
       "    </tr>\n",
       "    <tr>\n",
       "      <th>2</th>\n",
       "      <td>0-orchestrator</td>\n",
       "      <td>2023-05-23</td>\n",
       "      <td>4.0</td>\n",
       "      <td>6.0</td>\n",
       "      <td>0</td>\n",
       "    </tr>\n",
       "    <tr>\n",
       "      <th>3</th>\n",
       "      <td>0-orchestrator</td>\n",
       "      <td>2023-05-24</td>\n",
       "      <td>4.0</td>\n",
       "      <td>10.0</td>\n",
       "      <td>0</td>\n",
       "    </tr>\n",
       "    <tr>\n",
       "      <th>4</th>\n",
       "      <td>0-orchestrator</td>\n",
       "      <td>2023-05-25</td>\n",
       "      <td>7.0</td>\n",
       "      <td>17.0</td>\n",
       "      <td>0</td>\n",
       "    </tr>\n",
       "    <tr>\n",
       "      <th>...</th>\n",
       "      <td>...</td>\n",
       "      <td>...</td>\n",
       "      <td>...</td>\n",
       "      <td>...</td>\n",
       "      <td>...</td>\n",
       "    </tr>\n",
       "    <tr>\n",
       "      <th>1458871</th>\n",
       "      <td>zzzzzzz</td>\n",
       "      <td>2023-07-16</td>\n",
       "      <td>0.0</td>\n",
       "      <td>15.0</td>\n",
       "      <td>1</td>\n",
       "    </tr>\n",
       "    <tr>\n",
       "      <th>1458872</th>\n",
       "      <td>zzzzzzz</td>\n",
       "      <td>2023-07-17</td>\n",
       "      <td>0.0</td>\n",
       "      <td>15.0</td>\n",
       "      <td>1</td>\n",
       "    </tr>\n",
       "    <tr>\n",
       "      <th>1458873</th>\n",
       "      <td>zzzzzzz</td>\n",
       "      <td>2023-07-18</td>\n",
       "      <td>0.0</td>\n",
       "      <td>15.0</td>\n",
       "      <td>1</td>\n",
       "    </tr>\n",
       "    <tr>\n",
       "      <th>1458874</th>\n",
       "      <td>zzzzzzz</td>\n",
       "      <td>2023-07-19</td>\n",
       "      <td>2.0</td>\n",
       "      <td>17.0</td>\n",
       "      <td>1</td>\n",
       "    </tr>\n",
       "    <tr>\n",
       "      <th>1458875</th>\n",
       "      <td>zzzzzzz</td>\n",
       "      <td>2023-07-20</td>\n",
       "      <td>0.0</td>\n",
       "      <td>17.0</td>\n",
       "      <td>1</td>\n",
       "    </tr>\n",
       "  </tbody>\n",
       "</table>\n",
       "<p>1458876 rows × 5 columns</p>\n",
       "</div>"
      ],
      "text/plain": [
       "           file_project       date  downloads  tt_downloads  treatment\n",
       "0        0-orchestrator 2023-05-21        1.0           1.0          0\n",
       "1        0-orchestrator 2023-05-22        1.0           2.0          0\n",
       "2        0-orchestrator 2023-05-23        4.0           6.0          0\n",
       "3        0-orchestrator 2023-05-24        4.0          10.0          0\n",
       "4        0-orchestrator 2023-05-25        7.0          17.0          0\n",
       "...                 ...        ...        ...           ...        ...\n",
       "1458871         zzzzzzz 2023-07-16        0.0          15.0          1\n",
       "1458872         zzzzzzz 2023-07-17        0.0          15.0          1\n",
       "1458873         zzzzzzz 2023-07-18        0.0          15.0          1\n",
       "1458874         zzzzzzz 2023-07-19        2.0          17.0          1\n",
       "1458875         zzzzzzz 2023-07-20        0.0          17.0          1\n",
       "\n",
       "[1458876 rows x 5 columns]"
      ]
     },
     "execution_count": 2,
     "metadata": {},
     "output_type": "execute_result"
    }
   ],
   "source": [
    "# Fold\n",
    "df_dl = (\n",
    "    pd.read_csv(\"../data/bq_50kpypi_packages_60days_20230720-094132-1689846147063.csv\")\n",
    "    # =================================================================\n",
    "    # Filter down to organic downloads\n",
    "    .assign(\n",
    "        bot_or_not=lambda x: x[\"installer_name\"].replace(\n",
    "            {\n",
    "                \"pip\": \"human\",\n",
    "                \"Browser\": \"bot\",\n",
    "                \"bandersnatch\": \"bot\",\n",
    "                \"setuptools\": \"human\",\n",
    "                \"Nexus\": \"human\",\n",
    "                \"requests\": \"bot\",\n",
    "                \"devpi\": \"bot\",\n",
    "                \"pdm\": \"human\",\n",
    "                \"Homebrew\": \"human\",\n",
    "                \"Artifactory\": \"human\",\n",
    "                \"OS\": \"human\",\n",
    "                \"Bazel\": \"human\",\n",
    "                \"pex\": \"human\",\n",
    "                \"conda\": \"human\",\n",
    "                \"chaquopy\": \"human\",\n",
    "            }\n",
    "        )\n",
    "    )\n",
    "    .remove_columns(\"installer_name\")\n",
    "    .fillna({\"bot_or_not\": \"bot\"})\n",
    "    .query(\"bot_or_not == 'human'\")\n",
    "    .remove_columns(\"bot_or_not\")\n",
    "    .groupby([\"file_project\", \"timestamp_date\"])[\"downloads\"]\n",
    "    .sum()\n",
    "    .reset_index()\n",
    "    # =================================================================\n",
    "    # Fix dates\n",
    "    .assign(date=lambda df: pd.to_datetime(df[\"timestamp_date\"]))\n",
    "    .remove_columns(\"timestamp_date\")\n",
    "    # =================================================================\n",
    "    # Fill-in missing package-dates w/ zeroes\n",
    "    .set_index([\"file_project\", \"date\"])\n",
    "    .pipe(\n",
    "        lambda df_: df_.reindex(\n",
    "            pd.MultiIndex.from_product(\n",
    "                [\n",
    "                    df_.index.get_level_values(\"file_project\").unique(),\n",
    "                    pd.date_range(\"2023-05-21\", \"2023-07-20\"),\n",
    "                ],\n",
    "                names=[\"file_project\", \"date\"],\n",
    "            )\n",
    "        )\n",
    "    )\n",
    "    .fillna({\"downloads\": 0})\n",
    "    .reset_index()\n",
    "    # =================================================================\n",
    "    # Get cumsum\n",
    "    .sort_values([\"file_project\", \"date\"], ignore_index=True)\n",
    "    .groupby([\"file_project\", \"date\"])[\"downloads\"]\n",
    "    .sum()\n",
    "    .reset_index()\n",
    "    .assign(tt_downloads=lambda df: df.groupby(\"file_project\")[\"downloads\"].cumsum())\n",
    "    # =================================================================\n",
    "    # Get treatment assignment\n",
    "    .merge(\n",
    "        (\n",
    "            pd.read_csv(\"../data/fin_dataset_treat_control.csv\").filter(\n",
    "                [\"file_project\", \"treatment\"]\n",
    "            )\n",
    "        ),\n",
    "        how=\"left\",\n",
    "        on=\"file_project\",\n",
    "        validate=\"m:1\",\n",
    "    )\n",
    ")\n",
    "# Assert complete panel\n",
    "assert len(df_dl) == (df_dl[\"file_project\"].nunique() * df_dl[\"date\"].nunique())\n",
    "df_dl"
   ]
  },
  {
   "cell_type": "markdown",
   "id": "2cdddd79",
   "metadata": {},
   "source": [
    "### Treatment intensity"
   ]
  },
  {
   "cell_type": "code",
   "execution_count": 3,
   "id": "92a1b75c",
   "metadata": {
    "ExecuteTime": {
     "end_time": "2024-08-08T07:50:21.780507Z",
     "start_time": "2024-08-08T07:50:21.271798Z"
    }
   },
   "outputs": [
    {
     "data": {
      "text/html": [
       "<div>\n",
       "<style scoped>\n",
       "    .dataframe tbody tr th:only-of-type {\n",
       "        vertical-align: middle;\n",
       "    }\n",
       "\n",
       "    .dataframe tbody tr th {\n",
       "        vertical-align: top;\n",
       "    }\n",
       "\n",
       "    .dataframe thead th {\n",
       "        text-align: right;\n",
       "    }\n",
       "</style>\n",
       "<table border=\"1\" class=\"dataframe\">\n",
       "  <thead>\n",
       "    <tr style=\"text-align: right;\">\n",
       "      <th></th>\n",
       "      <th>file_project</th>\n",
       "      <th>date</th>\n",
       "      <th>downloads</th>\n",
       "      <th>tt_downloads</th>\n",
       "      <th>treatment</th>\n",
       "      <th>diff_intervention</th>\n",
       "      <th>treated</th>\n",
       "    </tr>\n",
       "  </thead>\n",
       "  <tbody>\n",
       "    <tr>\n",
       "      <th>0</th>\n",
       "      <td>0-orchestrator</td>\n",
       "      <td>2023-05-21</td>\n",
       "      <td>1.0</td>\n",
       "      <td>1.0</td>\n",
       "      <td>0</td>\n",
       "      <td>0.0</td>\n",
       "      <td>0</td>\n",
       "    </tr>\n",
       "    <tr>\n",
       "      <th>1</th>\n",
       "      <td>0-orchestrator</td>\n",
       "      <td>2023-05-22</td>\n",
       "      <td>1.0</td>\n",
       "      <td>2.0</td>\n",
       "      <td>0</td>\n",
       "      <td>0.0</td>\n",
       "      <td>0</td>\n",
       "    </tr>\n",
       "    <tr>\n",
       "      <th>2</th>\n",
       "      <td>0-orchestrator</td>\n",
       "      <td>2023-05-23</td>\n",
       "      <td>4.0</td>\n",
       "      <td>6.0</td>\n",
       "      <td>0</td>\n",
       "      <td>0.0</td>\n",
       "      <td>0</td>\n",
       "    </tr>\n",
       "    <tr>\n",
       "      <th>3</th>\n",
       "      <td>0-orchestrator</td>\n",
       "      <td>2023-05-24</td>\n",
       "      <td>4.0</td>\n",
       "      <td>10.0</td>\n",
       "      <td>0</td>\n",
       "      <td>0.0</td>\n",
       "      <td>0</td>\n",
       "    </tr>\n",
       "    <tr>\n",
       "      <th>4</th>\n",
       "      <td>0-orchestrator</td>\n",
       "      <td>2023-05-25</td>\n",
       "      <td>7.0</td>\n",
       "      <td>17.0</td>\n",
       "      <td>0</td>\n",
       "      <td>0.0</td>\n",
       "      <td>0</td>\n",
       "    </tr>\n",
       "    <tr>\n",
       "      <th>...</th>\n",
       "      <td>...</td>\n",
       "      <td>...</td>\n",
       "      <td>...</td>\n",
       "      <td>...</td>\n",
       "      <td>...</td>\n",
       "      <td>...</td>\n",
       "      <td>...</td>\n",
       "    </tr>\n",
       "    <tr>\n",
       "      <th>1458871</th>\n",
       "      <td>zzzzzzz</td>\n",
       "      <td>2023-07-16</td>\n",
       "      <td>0.0</td>\n",
       "      <td>15.0</td>\n",
       "      <td>1</td>\n",
       "      <td>0.0</td>\n",
       "      <td>0</td>\n",
       "    </tr>\n",
       "    <tr>\n",
       "      <th>1458872</th>\n",
       "      <td>zzzzzzz</td>\n",
       "      <td>2023-07-17</td>\n",
       "      <td>0.0</td>\n",
       "      <td>15.0</td>\n",
       "      <td>1</td>\n",
       "      <td>0.0</td>\n",
       "      <td>0</td>\n",
       "    </tr>\n",
       "    <tr>\n",
       "      <th>1458873</th>\n",
       "      <td>zzzzzzz</td>\n",
       "      <td>2023-07-18</td>\n",
       "      <td>0.0</td>\n",
       "      <td>15.0</td>\n",
       "      <td>1</td>\n",
       "      <td>0.0</td>\n",
       "      <td>0</td>\n",
       "    </tr>\n",
       "    <tr>\n",
       "      <th>1458874</th>\n",
       "      <td>zzzzzzz</td>\n",
       "      <td>2023-07-19</td>\n",
       "      <td>2.0</td>\n",
       "      <td>17.0</td>\n",
       "      <td>1</td>\n",
       "      <td>0.0</td>\n",
       "      <td>0</td>\n",
       "    </tr>\n",
       "    <tr>\n",
       "      <th>1458875</th>\n",
       "      <td>zzzzzzz</td>\n",
       "      <td>2023-07-20</td>\n",
       "      <td>0.0</td>\n",
       "      <td>17.0</td>\n",
       "      <td>1</td>\n",
       "      <td>0.0</td>\n",
       "      <td>0</td>\n",
       "    </tr>\n",
       "  </tbody>\n",
       "</table>\n",
       "<p>1458876 rows × 7 columns</p>\n",
       "</div>"
      ],
      "text/plain": [
       "           file_project       date  downloads  tt_downloads  treatment   \n",
       "0        0-orchestrator 2023-05-21        1.0           1.0          0  \\\n",
       "1        0-orchestrator 2023-05-22        1.0           2.0          0   \n",
       "2        0-orchestrator 2023-05-23        4.0           6.0          0   \n",
       "3        0-orchestrator 2023-05-24        4.0          10.0          0   \n",
       "4        0-orchestrator 2023-05-25        7.0          17.0          0   \n",
       "...                 ...        ...        ...           ...        ...   \n",
       "1458871         zzzzzzz 2023-07-16        0.0          15.0          1   \n",
       "1458872         zzzzzzz 2023-07-17        0.0          15.0          1   \n",
       "1458873         zzzzzzz 2023-07-18        0.0          15.0          1   \n",
       "1458874         zzzzzzz 2023-07-19        2.0          17.0          1   \n",
       "1458875         zzzzzzz 2023-07-20        0.0          17.0          1   \n",
       "\n",
       "         diff_intervention  treated  \n",
       "0                      0.0        0  \n",
       "1                      0.0        0  \n",
       "2                      0.0        0  \n",
       "3                      0.0        0  \n",
       "4                      0.0        0  \n",
       "...                    ...      ...  \n",
       "1458871                0.0        0  \n",
       "1458872                0.0        0  \n",
       "1458873                0.0        0  \n",
       "1458874                0.0        0  \n",
       "1458875                0.0        0  \n",
       "\n",
       "[1458876 rows x 7 columns]"
      ]
     },
     "execution_count": 3,
     "metadata": {},
     "output_type": "execute_result"
    }
   ],
   "source": [
    "# Get manipulation shift\n",
    "int_start = '2023-06-03'\n",
    "int_end = '2023-06-08'\n",
    "treatment_intensity_threshold = 50\n",
    "\n",
    "df_dl_treat_comply = (\n",
    "    df_dl\n",
    "    # ========================================================================\n",
    "    # Get intervention shift\n",
    "    .merge(\n",
    "        df_dl\n",
    "        .pivot(index='file_project', columns='date', values='tt_downloads')\n",
    "        .assign(diff_intervention=lambda df_: df_[pd.to_datetime(int_end)] - df_[pd.to_datetime(int_start)])\n",
    "        .reset_index()\n",
    "        .select_columns([\"file_project\", \"diff_intervention\"]),\n",
    "        on=\"file_project\", validate=\"m:1\"\n",
    "    )\n",
    "    # ========================================================================\n",
    "    .assign(treated=lambda df_: np.where(df_[\"diff_intervention\"] >= treatment_intensity_threshold, 1, 0))\n",
    "    # Set to 0 for assigned control\n",
    "    .assign(\n",
    "        **{k:lambda df_, col=k: np.where(df_[\"treatment\"]==0, 0, df_[col]) for k in [\"diff_intervention\", \"treated\"]}\n",
    "    )\n",
    ")\n",
    "df_dl_treat_comply"
   ]
  },
  {
   "cell_type": "code",
   "execution_count": 4,
   "id": "4e8480dd",
   "metadata": {
    "ExecuteTime": {
     "end_time": "2024-08-08T07:50:21.855918Z",
     "start_time": "2024-08-08T07:50:21.782669Z"
    }
   },
   "outputs": [
    {
     "data": {
      "text/html": [
       "<style type=\"text/css\">\n",
       "</style>\n",
       "<table id=\"T_2235b\">\n",
       "  <thead>\n",
       "    <tr>\n",
       "      <th class=\"blank level0\" >&nbsp;</th>\n",
       "      <th id=\"T_2235b_level0_col0\" class=\"col_heading level0 col0\" >treated</th>\n",
       "      <th id=\"T_2235b_level0_col1\" class=\"col_heading level0 col1\" >count</th>\n",
       "      <th id=\"T_2235b_level0_col2\" class=\"col_heading level0 col2\" >percent</th>\n",
       "      <th id=\"T_2235b_level0_col3\" class=\"col_heading level0 col3\" >cumulative_count</th>\n",
       "      <th id=\"T_2235b_level0_col4\" class=\"col_heading level0 col4\" >cumulative_percent</th>\n",
       "    </tr>\n",
       "  </thead>\n",
       "  <tbody>\n",
       "    <tr>\n",
       "      <th id=\"T_2235b_level0_row0\" class=\"row_heading level0 row0\" >0</th>\n",
       "      <td id=\"T_2235b_row0_col0\" class=\"data row0 col0\" >0</td>\n",
       "      <td id=\"T_2235b_row0_col1\" class=\"data row0 col1\" >2,345</td>\n",
       "      <td id=\"T_2235b_row0_col2\" class=\"data row0 col2\" >48.71%</td>\n",
       "      <td id=\"T_2235b_row0_col3\" class=\"data row0 col3\" >2,345</td>\n",
       "      <td id=\"T_2235b_row0_col4\" class=\"data row0 col4\" >48.71%</td>\n",
       "    </tr>\n",
       "    <tr>\n",
       "      <th id=\"T_2235b_level0_row1\" class=\"row_heading level0 row1\" >1</th>\n",
       "      <td id=\"T_2235b_row1_col0\" class=\"data row1 col0\" >1</td>\n",
       "      <td id=\"T_2235b_row1_col1\" class=\"data row1 col1\" >2,469</td>\n",
       "      <td id=\"T_2235b_row1_col2\" class=\"data row1 col2\" >51.29%</td>\n",
       "      <td id=\"T_2235b_row1_col3\" class=\"data row1 col3\" >4,814</td>\n",
       "      <td id=\"T_2235b_row1_col4\" class=\"data row1 col4\" >100.00%</td>\n",
       "    </tr>\n",
       "  </tbody>\n",
       "</table>\n"
      ],
      "text/plain": [
       "<pandas.io.formats.style.Styler at 0x7f5a70e17ee0>"
      ]
     },
     "execution_count": 4,
     "metadata": {},
     "output_type": "execute_result"
    }
   ],
   "source": [
    "(\n",
    "    df_dl_treat_comply\n",
    "    .drop_duplicates(\"file_project\")\n",
    "    .query(\"treatment==1\")\n",
    "    .stb.freq([\"treated\"], style=True, sort_cols=True)\n",
    ")"
   ]
  },
  {
   "cell_type": "code",
   "execution_count": 5,
   "id": "39746e82",
   "metadata": {
    "ExecuteTime": {
     "end_time": "2024-08-08T07:50:21.890489Z",
     "start_time": "2024-08-08T07:50:21.858398Z"
    }
   },
   "outputs": [
    {
     "data": {
      "text/html": [
       "<style type=\"text/css\">\n",
       "</style>\n",
       "<table id=\"T_eb305\">\n",
       "  <thead>\n",
       "    <tr>\n",
       "      <th class=\"blank level0\" >&nbsp;</th>\n",
       "      <th id=\"T_eb305_level0_col0\" class=\"col_heading level0 col0\" >treated</th>\n",
       "      <th id=\"T_eb305_level0_col1\" class=\"col_heading level0 col1\" >count</th>\n",
       "      <th id=\"T_eb305_level0_col2\" class=\"col_heading level0 col2\" >percent</th>\n",
       "      <th id=\"T_eb305_level0_col3\" class=\"col_heading level0 col3\" >cumulative_count</th>\n",
       "      <th id=\"T_eb305_level0_col4\" class=\"col_heading level0 col4\" >cumulative_percent</th>\n",
       "    </tr>\n",
       "  </thead>\n",
       "  <tbody>\n",
       "    <tr>\n",
       "      <th id=\"T_eb305_level0_row0\" class=\"row_heading level0 row0\" >0</th>\n",
       "      <td id=\"T_eb305_row0_col0\" class=\"data row0 col0\" >0</td>\n",
       "      <td id=\"T_eb305_row0_col1\" class=\"data row0 col1\" >19,102</td>\n",
       "      <td id=\"T_eb305_row0_col2\" class=\"data row0 col2\" >100.00%</td>\n",
       "      <td id=\"T_eb305_row0_col3\" class=\"data row0 col3\" >19,102</td>\n",
       "      <td id=\"T_eb305_row0_col4\" class=\"data row0 col4\" >100.00%</td>\n",
       "    </tr>\n",
       "  </tbody>\n",
       "</table>\n"
      ],
      "text/plain": [
       "<pandas.io.formats.style.Styler at 0x7f5a6e6d9cc0>"
      ]
     },
     "execution_count": 5,
     "metadata": {},
     "output_type": "execute_result"
    }
   ],
   "source": [
    "(\n",
    "    df_dl_treat_comply\n",
    "    .drop_duplicates(\"file_project\")\n",
    "    .query(\"treatment==0\")\n",
    "    .stb.freq([\"treated\"], style=True, sort_cols=True)\n",
    ")"
   ]
  },
  {
   "cell_type": "code",
   "execution_count": 6,
   "id": "4f6cfd0b",
   "metadata": {
    "ExecuteTime": {
     "end_time": "2024-08-08T07:50:21.923511Z",
     "start_time": "2024-08-08T07:50:21.892337Z"
    }
   },
   "outputs": [
    {
     "data": {
      "text/plain": [
       "0.0"
      ]
     },
     "execution_count": 6,
     "metadata": {},
     "output_type": "execute_result"
    }
   ],
   "source": [
    "# Non-treated mean intervention period diff.\n",
    "(\n",
    "    df_dl_treat_comply\n",
    "    .drop_duplicates(\"file_project\")\n",
    "    .query(\"treatment==0\")\n",
    "    [\"diff_intervention\"]\n",
    "    .mean()\n",
    ")"
   ]
  },
  {
   "cell_type": "code",
   "execution_count": 7,
   "id": "d15e6907",
   "metadata": {
    "ExecuteTime": {
     "end_time": "2024-08-08T07:50:21.953350Z",
     "start_time": "2024-08-08T07:50:21.924984Z"
    },
    "code_folding": []
   },
   "outputs": [
    {
     "data": {
      "text/plain": [
       "17094.577897798088"
      ]
     },
     "execution_count": 7,
     "metadata": {},
     "output_type": "execute_result"
    }
   ],
   "source": [
    "# Treated mean intervention period diff.\n",
    "(\n",
    "    df_dl_treat_comply\n",
    "    .drop_duplicates(\"file_project\")\n",
    "    .query(\"treatment==1\")\n",
    "    [\"diff_intervention\"]\n",
    "    .mean()\n",
    ")"
   ]
  },
  {
   "cell_type": "code",
   "execution_count": 8,
   "id": "dc4e0f78",
   "metadata": {
    "ExecuteTime": {
     "end_time": "2024-08-08T07:50:21.985693Z",
     "start_time": "2024-08-08T07:50:21.955827Z"
    }
   },
   "outputs": [
    {
     "data": {
      "text/plain": [
       "0.0"
      ]
     },
     "execution_count": 8,
     "metadata": {},
     "output_type": "execute_result"
    }
   ],
   "source": [
    "# Non-treated median intervention period diff.\n",
    "(\n",
    "    df_dl_treat_comply\n",
    "    .drop_duplicates(\"file_project\")\n",
    "    .query(\"treatment==0\")\n",
    "    [\"diff_intervention\"]\n",
    "    .median()\n",
    ")"
   ]
  },
  {
   "cell_type": "code",
   "execution_count": 9,
   "id": "1287d2d8",
   "metadata": {
    "ExecuteTime": {
     "end_time": "2024-08-08T07:50:22.015348Z",
     "start_time": "2024-08-08T07:50:21.987859Z"
    }
   },
   "outputs": [
    {
     "data": {
      "text/plain": [
       "71.0"
      ]
     },
     "execution_count": 9,
     "metadata": {},
     "output_type": "execute_result"
    }
   ],
   "source": [
    "# Treated median intervention period diff.\n",
    "(\n",
    "    df_dl_treat_comply\n",
    "    .drop_duplicates(\"file_project\")\n",
    "    .query(\"treatment==1\")\n",
    "    [\"diff_intervention\"]\n",
    "    .median()\n",
    ")"
   ]
  },
  {
   "cell_type": "code",
   "execution_count": 10,
   "id": "04573bba",
   "metadata": {
    "ExecuteTime": {
     "end_time": "2024-08-08T07:50:25.032675Z",
     "start_time": "2024-08-08T07:50:22.017771Z"
    }
   },
   "outputs": [],
   "source": [
    "df_dl_treat_comply.to_csv(\"../data/pypi_experiment_timeseries.csv\", index=False)"
   ]
  },
  {
   "cell_type": "markdown",
   "id": "33e7c02f",
   "metadata": {},
   "source": [
    "### Sample numbers"
   ]
  },
  {
   "cell_type": "code",
   "execution_count": 11,
   "id": "0ca3e10f",
   "metadata": {
    "ExecuteTime": {
     "end_time": "2024-08-08T07:50:25.127092Z",
     "start_time": "2024-08-08T07:50:25.035151Z"
    },
    "scrolled": true
   },
   "outputs": [
    {
     "data": {
      "text/plain": [
       "19102"
      ]
     },
     "execution_count": 11,
     "metadata": {},
     "output_type": "execute_result"
    }
   ],
   "source": [
    "df_dl_treat_comply.query(\"treatment==0\")[\"file_project\"].nunique()"
   ]
  },
  {
   "cell_type": "code",
   "execution_count": null,
   "id": "b4862738",
   "metadata": {},
   "outputs": [],
   "source": []
  },
  {
   "cell_type": "code",
   "execution_count": 12,
   "id": "a5fdb24b",
   "metadata": {
    "ExecuteTime": {
     "end_time": "2024-08-08T07:50:25.161999Z",
     "start_time": "2024-08-08T07:50:25.128905Z"
    }
   },
   "outputs": [
    {
     "data": {
      "text/plain": [
       "4814"
      ]
     },
     "execution_count": 12,
     "metadata": {},
     "output_type": "execute_result"
    }
   ],
   "source": [
    "df_dl_treat_comply.query(\"treatment==1\")[\"file_project\"].nunique()"
   ]
  },
  {
   "cell_type": "code",
   "execution_count": 13,
   "id": "9955e451",
   "metadata": {
    "ExecuteTime": {
     "end_time": "2024-08-08T07:50:25.221878Z",
     "start_time": "2024-08-08T07:50:25.163679Z"
    }
   },
   "outputs": [
    {
     "data": {
      "text/plain": [
       "23916"
      ]
     },
     "execution_count": 13,
     "metadata": {},
     "output_type": "execute_result"
    }
   ],
   "source": [
    "df_dl_treat_comply[\"file_project\"].nunique()"
   ]
  },
  {
   "cell_type": "code",
   "execution_count": 14,
   "id": "ee72bcce",
   "metadata": {
    "ExecuteTime": {
     "end_time": "2024-08-08T07:50:25.232976Z",
     "start_time": "2024-08-08T07:50:25.223718Z"
    }
   },
   "outputs": [
    {
     "data": {
      "text/plain": [
       "61"
      ]
     },
     "execution_count": 14,
     "metadata": {},
     "output_type": "execute_result"
    }
   ],
   "source": [
    "df_dl_treat_comply[\"date\"].nunique()"
   ]
  },
  {
   "cell_type": "code",
   "execution_count": 15,
   "id": "40acca04",
   "metadata": {
    "ExecuteTime": {
     "end_time": "2024-08-08T07:50:25.237353Z",
     "start_time": "2024-08-08T07:50:25.234828Z"
    },
    "scrolled": true
   },
   "outputs": [],
   "source": [
    "# df_dl[df_dl.duplicated([\"file_project\", \"date\"], keep=False)].sort_values([\"file_project\", \"date\",])"
   ]
  },
  {
   "cell_type": "code",
   "execution_count": 16,
   "id": "d9daf023",
   "metadata": {
    "ExecuteTime": {
     "end_time": "2024-08-08T07:50:25.246931Z",
     "start_time": "2024-08-08T07:50:25.239515Z"
    }
   },
   "outputs": [],
   "source": [
    "# df_dl.query(\"downloads==0\")"
   ]
  },
  {
   "cell_type": "markdown",
   "id": "854bd128",
   "metadata": {},
   "source": [
    "## Plot"
   ]
  },
  {
   "cell_type": "code",
   "execution_count": 22,
   "id": "dc015dbe",
   "metadata": {
    "ExecuteTime": {
     "end_time": "2024-08-08T07:55:38.378038Z",
     "start_time": "2024-08-08T07:55:38.365512Z"
    }
   },
   "outputs": [],
   "source": [
    "# function\n",
    "def plot_treated_vs_control(\n",
    "    df: pd.DataFrame,\n",
    "    date_col: str,\n",
    "    value_col: str,\n",
    "    treatment_col: str,\n",
    "    estimator: str = \"mean\",\n",
    "    ci: Optional[str] = None,\n",
    "    annotate_dates: Optional[List[Tuple[str, str]]] = None,\n",
    "    figsize_scale: float = 0.8,\n",
    "    aspect_ratio: Tuple[int, int] = (12, 8),\n",
    "    hue_order: List[int] = [1, 0],\n",
    "    style_order: List[int] = [1, 0],\n",
    "    palette_range: Tuple[float, float] = (0.5, 1),\n",
    "    y_label: str = \"Number of PyPI downloads\",\n",
    "    y_tick_formatter: Optional[Callable] = None,\n",
    "    y_bins: int = 6,\n",
    "    shade_start_date: Optional[str] = None,\n",
    "    shade_end_date: Optional[str] = None,\n",
    "    shade_color: str = \".6\",\n",
    "    shade_alpha: float = 0.5,\n",
    "    shade_label: str = \"Treatment period\\n(12 May\\u201319 May)\",\n",
    "    legend_order: List[int] = [0, 1, 2],\n",
    "    custom_labels: Optional[List[str]] = [\n",
    "        \"Treated\",\n",
    "        \"Control\",\n",
    "        #         \"Treated (low dosage)\",\n",
    "        #         \"Treated (high dosage)\",\n",
    "        \"Treatment period\\n(June 3\\u20138)\",\n",
    "    ],\n",
    ") -> None:\n",
    "    \"\"\"\n",
    "    Plot treated vs control with a specified estimator function.\n",
    "\n",
    "    Parameters\n",
    "    ----------\n",
    "    df : pd.DataFrame\n",
    "        DataFrame containing the data to plot.\n",
    "    date_col : str\n",
    "        Name of the column containing the date values.\n",
    "    value_col : str\n",
    "        Name of the column containing the values to plot.\n",
    "    treatment_col : str\n",
    "        Name of the column containing the treatment indicators.\n",
    "    estimator : Callable, optional\n",
    "        Estimator function to use for plotting, by default sns.lineplot.\n",
    "    ci : str, optional\n",
    "        Confidence interval to display, by default None.\n",
    "    annotate_dates : List[Tuple[str, str]], optional\n",
    "        List of tuples with start and end dates for annotations, by default None.\n",
    "    figsize_scale : float, optional\n",
    "        Scale for the figure size, by default 0.8.\n",
    "    aspect_ratio : Tuple[int, int], optional\n",
    "        Aspect ratio for the figure, by default (12, 8).\n",
    "    hue_order : List[int], optional\n",
    "        Order of the hues, by default [2, 1, 0].\n",
    "    style_order : List[int], optional\n",
    "        Order of the styles, by default [2, 1, 0].\n",
    "    palette_range : Tuple[float, float], optional\n",
    "        Range for the palette, by default (0.5, 1).\n",
    "    y_label : str, optional\n",
    "        Label for the y-axis, by default \"Number of PyPI downloads\".\n",
    "    y_tick_formatter : Callable, optional\n",
    "        Formatter for the y-axis ticks, by default None.\n",
    "    y_bins : int, optional\n",
    "        Number of bins for the y-axis, by default 6.\n",
    "    shade_start_date : str, optional\n",
    "        Start date for shading, by default None.\n",
    "    shade_end_date : str, optional\n",
    "        End date for shading, by default None.\n",
    "    shade_color : str, optional\n",
    "        Color for shading, by default \".6\".\n",
    "    shade_alpha : float, optional\n",
    "        Alpha value for shading, by default 0.5.\n",
    "    shade_label : str, optional\n",
    "        Label for shading, by default \"Treatment period\\n(12 May\\u201319 May)\".\n",
    "    legend_order : List[int], optional\n",
    "        Order for the legend items, by default [2, 1, 0, 3].\n",
    "    custom_labels : List[str], optional\n",
    "        Custom labels for the legend, by default None.\n",
    "\n",
    "    Returns\n",
    "    -------\n",
    "    None\n",
    "    \"\"\"\n",
    "    figsize = tuple(k * figsize_scale for k in aspect_ratio)\n",
    "    _, ax = plt.subplots(figsize=figsize)\n",
    "\n",
    "    sns.lineplot(\n",
    "        data=df,\n",
    "        x=date_col,\n",
    "        y=value_col,\n",
    "        markersize=12,\n",
    "        hue=treatment_col,\n",
    "        style=treatment_col,\n",
    "        hue_order=hue_order,\n",
    "        style_order=style_order,\n",
    "        ci=ci,\n",
    "        estimator=estimator,\n",
    "        #         palette=cmr.get_sub_cmap(\"Greys\", *palette_range),\n",
    "        #         palette=[\"navy\", \"navy\", \"0\"],\n",
    "        ax=ax,\n",
    "    )\n",
    "\n",
    "    myFmt = mdates.DateFormatter(\"%-d %b\")\n",
    "    ax.xaxis.set_major_formatter(myFmt)\n",
    "    ax.xaxis.set_major_locator(plt.MaxNLocator(10))\n",
    "\n",
    "    if shade_start_date and shade_end_date:\n",
    "        ax.axvspan(\n",
    "            pd.to_datetime(shade_start_date),\n",
    "            pd.to_datetime(shade_end_date),\n",
    "            color=shade_color,\n",
    "            alpha=shade_alpha,\n",
    "            label=shade_label,\n",
    "        )\n",
    "\n",
    "    plt.locator_params(axis=\"y\", nbins=y_bins)\n",
    "    if y_tick_formatter:\n",
    "        ax.get_yaxis().set_major_formatter(ticker.FuncFormatter(y_tick_formatter))\n",
    "    else:\n",
    "        ax.get_yaxis().set_major_formatter(\n",
    "            ticker.FuncFormatter(lambda x, p: format(int(x), \",\"))\n",
    "        )\n",
    "\n",
    "    ax.set_ylabel(y_label, fontsize=15)\n",
    "    ax.set_xlabel(\"\")\n",
    "\n",
    "    handles, labels = ax.get_legend_handles_labels()\n",
    "    shade_patch = Patch(color=\"grey\", alpha=0.5, label=\"Shaded Area\")\n",
    "    handles.append(shade_patch)\n",
    "\n",
    "    if not custom_labels:\n",
    "        custom_labels = [\n",
    "            \"Control\",\n",
    "            \"Treated (low dosage)\",\n",
    "            \"Treated (high dosage)\",\n",
    "            shade_label,\n",
    "        ]\n",
    "\n",
    "    ax.legend(\n",
    "        handles=[handles[idx] for idx in legend_order],\n",
    "        labels=[custom_labels[idx] for idx in legend_order],\n",
    "        title=\"\",\n",
    "        loc=\"upper left\",\n",
    "        fontsize=16,\n",
    "        markerscale=1.5,\n",
    "        markerfirst=True,\n",
    "        frameon=False,\n",
    "        handlelength=4,\n",
    "    )\n",
    "\n",
    "    plt.tight_layout()"
   ]
  },
  {
   "cell_type": "code",
   "execution_count": 23,
   "id": "b206408c",
   "metadata": {
    "ExecuteTime": {
     "end_time": "2024-08-08T07:55:38.837679Z",
     "start_time": "2024-08-08T07:55:38.833176Z"
    }
   },
   "outputs": [],
   "source": [
    "def save_mpl_fig(\n",
    "    savepath: str, formats: Optional[Iterable[str]] = None, dpi: Optional[int] = None\n",
    ") -> None:\n",
    "    \"\"\"Save matplotlib figures to ../output.\n",
    "\n",
    "    Will handle saving in png and in pdf automatically using the same file stem.\n",
    "\n",
    "    Parameters\n",
    "    ----------\n",
    "    savepath: str\n",
    "        Name of file to save to. No extensions.\n",
    "    formats: Array-like\n",
    "        List containing formats to save in. (By default 'png' and 'pdf' are saved).\n",
    "        Do a:\n",
    "            plt.gcf().canvas.get_supported_filetypes()\n",
    "        or:\n",
    "            plt.gcf().canvas.get_supported_filetypes_grouped()\n",
    "        To see the Matplotlib-supported file formats to save in.\n",
    "        (Source: https://stackoverflow.com/a/15007393)\n",
    "    dpi: int\n",
    "        DPI for saving in png.\n",
    "\n",
    "    Returns\n",
    "    -------\n",
    "    None\n",
    "    \"\"\"\n",
    "    # Save pdf\n",
    "    plt.savefig(\n",
    "        f\"{savepath}.pdf\", dpi=None, bbox_inches=\"tight\", pad_inches=0\n",
    "    )\n",
    "\n",
    "    # save png\n",
    "    plt.savefig(f\"{savepath}.png\", dpi=dpi, bbox_inches=\"tight\", pad_inches=0)\n",
    "\n",
    "    # Save additional file formats, if specified\n",
    "    if formats:\n",
    "        for format in formats:\n",
    "            plt.savefig(\n",
    "                f\"{savepath}.{format}\",\n",
    "                dpi=None,\n",
    "                bbox_inches=\"tight\",\n",
    "                pad_inches=0,\n",
    "            )\n",
    "    return None"
   ]
  },
  {
   "cell_type": "code",
   "execution_count": 24,
   "id": "1b13b568",
   "metadata": {
    "ExecuteTime": {
     "end_time": "2024-08-08T07:55:39.771775Z",
     "start_time": "2024-08-08T07:55:39.768801Z"
    }
   },
   "outputs": [],
   "source": [
    "common_opts = dict(\n",
    "    df=df_dl,\n",
    "    date_col=\"date\",\n",
    "    value_col=\"tt_downloads\",\n",
    "    treatment_col=\"treatment\",\n",
    "    shade_start_date=\"2023-06-03\",\n",
    "    shade_end_date=\"2023-06-08\",\n",
    ")"
   ]
  },
  {
   "cell_type": "code",
   "execution_count": 25,
   "id": "3c49affa",
   "metadata": {
    "ExecuteTime": {
     "end_time": "2024-08-08T07:55:41.588208Z",
     "start_time": "2024-08-08T07:55:40.152965Z"
    }
   },
   "outputs": [
    {
     "data": {
      "image/png": "[encoded data removed]",
      "text/plain": [
       "<Figure size 691.2x460.8 with 1 Axes>"
      ]
     },
     "metadata": {
      "needs_background": "light"
     },
     "output_type": "display_data"
    }
   ],
   "source": [
    "plot_treated_vs_control(**common_opts)\n",
    "save_mpl_fig(\"../figs/pypi-exp-timeseries-downloads\")"
   ]
  },
  {
   "cell_type": "code",
   "execution_count": 26,
   "id": "eb0f39d7",
   "metadata": {
    "ExecuteTime": {
     "end_time": "2024-08-08T07:55:42.948922Z",
     "start_time": "2024-08-08T07:55:41.590349Z"
    }
   },
   "outputs": [
    {
     "data": {
      "image/png": "[encoded data removed]",
      "text/plain": [
       "<Figure size 691.2x460.8 with 1 Axes>"
      ]
     },
     "metadata": {
      "needs_background": "light"
     },
     "output_type": "display_data"
    }
   ],
   "source": [
    "plot_treated_vs_control(**common_opts, estimator=np.median)\n",
    "save_mpl_fig(\"../figs/pypi-exp-timeseries-downloads-medians\")"
   ]
  },
  {
   "cell_type": "code",
   "execution_count": null,
   "id": "d7698db3",
   "metadata": {
    "ExecuteTime": {
     "end_time": "2024-07-28T02:18:01.077435Z",
     "start_time": "2024-07-28T02:18:01.074903Z"
    }
   },
   "outputs": [],
   "source": [
    "# from tqdm.notebook import tqdm\n",
    "\n",
    "# for pkg in tqdm(df_dl[\"file_project\"].unique().tolist()):\n",
    "#     downloads_ts = df_dl.query(f\"file_project=='{pkg}'\")[\"tt_downloads\"].tolist()\n",
    "# #     for download_count in downloads_ts:\n",
    "#     for i in range(1, len(downloads_ts)):\n",
    "#         assert downloads_ts[i] >= downloads_ts[i - 1], f\"Assertion for {pkg} at index {i}: {downloads_ts[i]} is not greater than {downloads_ts[i - 1]}\""
   ]
  },
  {
   "cell_type": "code",
   "execution_count": null,
   "id": "89c119bd",
   "metadata": {},
   "outputs": [],
   "source": []
  }
 ],
 "metadata": {
  "kernelspec": {
   "display_name": "Python (venv)",
   "language": "python",
   "name": "venv"
  },
  "language_info": {
   "codemirror_mode": {
    "name": "ipython",
    "version": 3
   },
   "file_extension": ".py",
   "mimetype": "text/x-python",
   "name": "python",
   "nbconvert_exporter": "python",
   "pygments_lexer": "ipython3",
   "version": "3.10.11"
  },
  "toc": {
   "base_numbering": 1,
   "nav_menu": {},
   "number_sections": true,
   "sideBar": true,
   "skip_h1_title": false,
   "title_cell": "Table of Contents",
   "title_sidebar": "Contents",
   "toc_cell": false,
   "toc_position": {
    "height": "calc(100% - 180px)",
    "left": "10px",
    "top": "150px",
    "width": "333.976px"
   },
   "toc_section_display": true,
   "toc_window_display": true
  }
 },
 "nbformat": 4,
 "nbformat_minor": 5
}
