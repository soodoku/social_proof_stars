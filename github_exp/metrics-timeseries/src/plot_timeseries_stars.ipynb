{
 "cells": [
  {
   "cell_type": "code",
   "execution_count": 1,
   "id": "d34781ae",
   "metadata": {
    "ExecuteTime": {
     "end_time": "2024-08-11T05:34:46.168354Z",
     "start_time": "2024-08-11T05:34:45.103049Z"
    }
   },
   "outputs": [
    {
     "data": {
      "text/html": [
       "<div>\n",
       "<style scoped>\n",
       "    .dataframe tbody tr th:only-of-type {\n",
       "        vertical-align: middle;\n",
       "    }\n",
       "\n",
       "    .dataframe tbody tr th {\n",
       "        vertical-align: top;\n",
       "    }\n",
       "\n",
       "    .dataframe thead th {\n",
       "        text-align: right;\n",
       "    }\n",
       "</style>\n",
       "<table border=\"1\" class=\"dataframe\">\n",
       "  <thead>\n",
       "    <tr style=\"text-align: right;\">\n",
       "      <th></th>\n",
       "      <th>fileslug</th>\n",
       "      <th>date</th>\n",
       "      <th>stars</th>\n",
       "      <th>treated</th>\n",
       "      <th>boughtstars</th>\n",
       "      <th>treated2</th>\n",
       "      <th>_merge</th>\n",
       "    </tr>\n",
       "  </thead>\n",
       "  <tbody>\n",
       "    <tr>\n",
       "      <th>0</th>\n",
       "      <td>0riion_py-sls-lambda-toolkit</td>\n",
       "      <td>2023-05-09</td>\n",
       "      <td>0</td>\n",
       "      <td>1</td>\n",
       "      <td>1</td>\n",
       "      <td>2</td>\n",
       "      <td>both</td>\n",
       "    </tr>\n",
       "    <tr>\n",
       "      <th>1</th>\n",
       "      <td>0riion_py-sls-lambda-toolkit</td>\n",
       "      <td>2023-05-10</td>\n",
       "      <td>0</td>\n",
       "      <td>1</td>\n",
       "      <td>1</td>\n",
       "      <td>2</td>\n",
       "      <td>both</td>\n",
       "    </tr>\n",
       "    <tr>\n",
       "      <th>2</th>\n",
       "      <td>0riion_py-sls-lambda-toolkit</td>\n",
       "      <td>2023-05-11</td>\n",
       "      <td>0</td>\n",
       "      <td>1</td>\n",
       "      <td>1</td>\n",
       "      <td>2</td>\n",
       "      <td>both</td>\n",
       "    </tr>\n",
       "    <tr>\n",
       "      <th>3</th>\n",
       "      <td>0riion_py-sls-lambda-toolkit</td>\n",
       "      <td>2023-05-12</td>\n",
       "      <td>0</td>\n",
       "      <td>1</td>\n",
       "      <td>1</td>\n",
       "      <td>2</td>\n",
       "      <td>both</td>\n",
       "    </tr>\n",
       "    <tr>\n",
       "      <th>4</th>\n",
       "      <td>0riion_py-sls-lambda-toolkit</td>\n",
       "      <td>2023-05-13</td>\n",
       "      <td>25</td>\n",
       "      <td>1</td>\n",
       "      <td>1</td>\n",
       "      <td>2</td>\n",
       "      <td>both</td>\n",
       "    </tr>\n",
       "    <tr>\n",
       "      <th>...</th>\n",
       "      <td>...</td>\n",
       "      <td>...</td>\n",
       "      <td>...</td>\n",
       "      <td>...</td>\n",
       "      <td>...</td>\n",
       "      <td>...</td>\n",
       "      <td>...</td>\n",
       "    </tr>\n",
       "    <tr>\n",
       "      <th>17545</th>\n",
       "      <td>zjupgx_diverge</td>\n",
       "      <td>2023-06-03</td>\n",
       "      <td>0</td>\n",
       "      <td>0</td>\n",
       "      <td>0</td>\n",
       "      <td>0</td>\n",
       "      <td>left_only</td>\n",
       "    </tr>\n",
       "    <tr>\n",
       "      <th>17546</th>\n",
       "      <td>zjupgx_diverge</td>\n",
       "      <td>2023-06-04</td>\n",
       "      <td>0</td>\n",
       "      <td>0</td>\n",
       "      <td>0</td>\n",
       "      <td>0</td>\n",
       "      <td>left_only</td>\n",
       "    </tr>\n",
       "    <tr>\n",
       "      <th>17547</th>\n",
       "      <td>zjupgx_diverge</td>\n",
       "      <td>2023-06-05</td>\n",
       "      <td>0</td>\n",
       "      <td>0</td>\n",
       "      <td>0</td>\n",
       "      <td>0</td>\n",
       "      <td>left_only</td>\n",
       "    </tr>\n",
       "    <tr>\n",
       "      <th>17548</th>\n",
       "      <td>zjupgx_diverge</td>\n",
       "      <td>2023-06-06</td>\n",
       "      <td>0</td>\n",
       "      <td>0</td>\n",
       "      <td>0</td>\n",
       "      <td>0</td>\n",
       "      <td>left_only</td>\n",
       "    </tr>\n",
       "    <tr>\n",
       "      <th>17549</th>\n",
       "      <td>zjupgx_diverge</td>\n",
       "      <td>2023-06-07</td>\n",
       "      <td>0</td>\n",
       "      <td>0</td>\n",
       "      <td>0</td>\n",
       "      <td>0</td>\n",
       "      <td>left_only</td>\n",
       "    </tr>\n",
       "  </tbody>\n",
       "</table>\n",
       "<p>17550 rows × 7 columns</p>\n",
       "</div>"
      ],
      "text/plain": [
       "                           fileslug       date  stars  treated  boughtstars  \\\n",
       "0      0riion_py-sls-lambda-toolkit 2023-05-09      0        1            1   \n",
       "1      0riion_py-sls-lambda-toolkit 2023-05-10      0        1            1   \n",
       "2      0riion_py-sls-lambda-toolkit 2023-05-11      0        1            1   \n",
       "3      0riion_py-sls-lambda-toolkit 2023-05-12      0        1            1   \n",
       "4      0riion_py-sls-lambda-toolkit 2023-05-13     25        1            1   \n",
       "...                             ...        ...    ...      ...          ...   \n",
       "17545                zjupgx_diverge 2023-06-03      0        0            0   \n",
       "17546                zjupgx_diverge 2023-06-04      0        0            0   \n",
       "17547                zjupgx_diverge 2023-06-05      0        0            0   \n",
       "17548                zjupgx_diverge 2023-06-06      0        0            0   \n",
       "17549                zjupgx_diverge 2023-06-07      0        0            0   \n",
       "\n",
       "       treated2     _merge  \n",
       "0             2       both  \n",
       "1             2       both  \n",
       "2             2       both  \n",
       "3             2       both  \n",
       "4             2       both  \n",
       "...         ...        ...  \n",
       "17545         0  left_only  \n",
       "17546         0  left_only  \n",
       "17547         0  left_only  \n",
       "17548         0  left_only  \n",
       "17549         0  left_only  \n",
       "\n",
       "[17550 rows x 7 columns]"
      ]
     },
     "execution_count": 1,
     "metadata": {},
     "output_type": "execute_result"
    }
   ],
   "source": [
    "import cmasher as cmr\n",
    "import janitor\n",
    "import matplotlib.dates as mdates\n",
    "import matplotlib.pyplot as plt\n",
    "from typing import Callable, List, Tuple, Optional\n",
    "import matplotlib.ticker as ticker\n",
    "from matplotlib.patches import Patch\n",
    "\n",
    "import numpy as np\n",
    "import pandas as pd\n",
    "import seaborn as sns\n",
    "import warnings\n",
    "\n",
    "warnings.filterwarnings(\"ignore\")\n",
    "\n",
    "sns.set_theme(\n",
    "    context=\"notebook\", font_scale=1.5, style=\"whitegrid\", palette=\"gray\"\n",
    ")  #  Darkgrid Whitegrid Dark White Ticks\n",
    "\n",
    "from utilities import save_mpl_fig\n",
    "\n",
    "df_stars = pd.read_csv(\"../input/repo_stars_timeseries.csv\").assign(\n",
    "    date=lambda df: pd.to_datetime(df[\"date\"])\n",
    ")\n",
    "df_stars"
   ]
  },
  {
   "cell_type": "code",
   "execution_count": 7,
   "id": "4c73156e",
   "metadata": {
    "ExecuteTime": {
     "end_time": "2024-08-11T05:35:01.438540Z",
     "start_time": "2024-08-11T05:35:01.427965Z"
    },
    "code_folding": [
     0
    ]
   },
   "outputs": [],
   "source": [
    "# function\n",
    "def plot_treated_vs_control(\n",
    "    df: pd.DataFrame,\n",
    "    date_col: str,\n",
    "    value_col: str,\n",
    "    treatment_col: str,\n",
    "    estimator: str = \"mean\",\n",
    "    ci: Optional[str] = None,\n",
    "    annotate_dates: Optional[List[Tuple[str, str]]] = None,\n",
    "    figsize_scale: float = 0.8,\n",
    "    aspect_ratio: Tuple[int, int] = (12, 8),\n",
    "    hue_order: List[int] = [2, 1, 0],\n",
    "    style_order: List[int] = [2, 1, 0],\n",
    "    palette_range: Tuple[float, float] = (0.5, 1),\n",
    "    y_label: str = \"Number of GitHub Stars\",\n",
    "    y_tick_formatter: Optional[Callable] = None,\n",
    "    y_bins: int = 6,\n",
    "    shade_start_date: Optional[str] = None,\n",
    "    shade_end_date: Optional[str] = None,\n",
    "    shade_color: str = \".6\",\n",
    "    shade_alpha: float = 0.5,\n",
    "    shade_label: str = \"Treatment period\\n(12 May\\u201319 May)\",\n",
    "    legend_order: List[int] = [2, 1, 0, 3],\n",
    "    custom_labels: Optional[List[str]] = [\n",
    "        \"Control\",\n",
    "        \"Treated (low dosage)\",\n",
    "        \"Treated (high dosage)\",\n",
    "        \"Treatment period\\n(May 12\\u201321)\",\n",
    "    ],\n",
    ") -> None:\n",
    "    \"\"\"\n",
    "    Plot treated vs control with a specified estimator function.\n",
    "\n",
    "    Parameters\n",
    "    ----------\n",
    "    df : pd.DataFrame\n",
    "        DataFrame containing the data to plot.\n",
    "    date_col : str\n",
    "        Name of the column containing the date values.\n",
    "    value_col : str\n",
    "        Name of the column containing the values to plot.\n",
    "    treatment_col : str\n",
    "        Name of the column containing the treatment indicators.\n",
    "    estimator : Callable, optional\n",
    "        Estimator function to use for plotting, by default sns.lineplot.\n",
    "    ci : str, optional\n",
    "        Confidence interval to display, by default None.\n",
    "    annotate_dates : List[Tuple[str, str]], optional\n",
    "        List of tuples with start and end dates for annotations, by default None.\n",
    "    figsize_scale : float, optional\n",
    "        Scale for the figure size, by default 0.8.\n",
    "    aspect_ratio : Tuple[int, int], optional\n",
    "        Aspect ratio for the figure, by default (12, 8).\n",
    "    hue_order : List[int], optional\n",
    "        Order of the hues, by default [2, 1, 0].\n",
    "    style_order : List[int], optional\n",
    "        Order of the styles, by default [2, 1, 0].\n",
    "    palette_range : Tuple[float, float], optional\n",
    "        Range for the palette, by default (0.5, 1).\n",
    "    y_label : str, optional\n",
    "        Label for the y-axis, by default \"Number of PyPI downloads\".\n",
    "    y_tick_formatter : Callable, optional\n",
    "        Formatter for the y-axis ticks, by default None.\n",
    "    y_bins : int, optional\n",
    "        Number of bins for the y-axis, by default 6.\n",
    "    shade_start_date : str, optional\n",
    "        Start date for shading, by default None.\n",
    "    shade_end_date : str, optional\n",
    "        End date for shading, by default None.\n",
    "    shade_color : str, optional\n",
    "        Color for shading, by default \".6\".\n",
    "    shade_alpha : float, optional\n",
    "        Alpha value for shading, by default 0.5.\n",
    "    shade_label : str, optional\n",
    "        Label for shading, by default \"Treatment period\\n(12 May\\u201319 May)\".\n",
    "    legend_order : List[int], optional\n",
    "        Order for the legend items, by default [2, 1, 0, 3].\n",
    "    custom_labels : List[str], optional\n",
    "        Custom labels for the legend, by default None.\n",
    "\n",
    "    Returns\n",
    "    -------\n",
    "    None\n",
    "    \"\"\"\n",
    "    figsize = tuple(k * figsize_scale for k in aspect_ratio)\n",
    "    _, ax = plt.subplots(figsize=figsize)\n",
    "\n",
    "    sns.lineplot(\n",
    "        data=df,\n",
    "        x=date_col,\n",
    "        y=value_col,\n",
    "        markersize=12,\n",
    "        hue=treatment_col,\n",
    "        style=treatment_col,\n",
    "        hue_order=hue_order,\n",
    "        style_order=style_order,\n",
    "        ci=ci,\n",
    "        estimator=estimator,\n",
    "        palette=cmr.get_sub_cmap(\"Greys\", *palette_range),\n",
    "        #         palette=[\"navy\", \"navy\", \"0\"],\n",
    "        ax=ax,\n",
    "    )\n",
    "\n",
    "    myFmt = mdates.DateFormatter(\"%-d %b\")\n",
    "    ax.xaxis.set_major_formatter(myFmt)\n",
    "    ax.xaxis.set_major_locator(plt.MaxNLocator(10))\n",
    "\n",
    "    if shade_start_date and shade_end_date:\n",
    "        ax.axvspan(\n",
    "            pd.to_datetime(shade_start_date),\n",
    "            pd.to_datetime(shade_end_date),\n",
    "            color=shade_color,\n",
    "            alpha=shade_alpha,\n",
    "            label=shade_label,\n",
    "        )\n",
    "\n",
    "    plt.locator_params(axis=\"y\", nbins=y_bins)\n",
    "    if y_tick_formatter:\n",
    "        ax.get_yaxis().set_major_formatter(ticker.FuncFormatter(y_tick_formatter))\n",
    "    else:\n",
    "        ax.get_yaxis().set_major_formatter(\n",
    "            ticker.FuncFormatter(lambda x, p: format(int(x), \",\"))\n",
    "        )\n",
    "\n",
    "    ax.set_ylabel(y_label, fontsize=15)\n",
    "    ax.set_xlabel(\"\")\n",
    "\n",
    "    handles, labels = ax.get_legend_handles_labels()\n",
    "    shade_patch = Patch(color=\"grey\", alpha=0.5, label=\"Shaded Area\")\n",
    "    handles.append(shade_patch)\n",
    "\n",
    "    if not custom_labels:\n",
    "        custom_labels = [\n",
    "            \"Control\",\n",
    "            \"Treated (low dosage)\",\n",
    "            \"Treated (high dosage)\",\n",
    "            shade_label,\n",
    "        ]\n",
    "\n",
    "    ax.legend(\n",
    "        handles=[handles[idx] for idx in legend_order],\n",
    "        labels=[custom_labels[idx] for idx in legend_order],\n",
    "        title=\"\",\n",
    "        loc=\"upper left\",\n",
    "        fontsize=16,\n",
    "        markerscale=1.5,\n",
    "        markerfirst=True,\n",
    "        frameon=False,\n",
    "        handlelength=4,\n",
    "    )\n",
    "\n",
    "    plt.tight_layout()"
   ]
  },
  {
   "cell_type": "code",
   "execution_count": 8,
   "id": "294deb02",
   "metadata": {
    "ExecuteTime": {
     "end_time": "2024-08-11T05:35:02.081456Z",
     "start_time": "2024-08-11T05:35:02.076526Z"
    }
   },
   "outputs": [],
   "source": [
    "common_opts = dict(\n",
    "    df=df_stars,\n",
    "    date_col=\"date\",\n",
    "    value_col=\"stars\",\n",
    "    treatment_col=\"treated2\",\n",
    "    shade_start_date=\"2023-05-12\",\n",
    "    shade_end_date=\"2023-05-21\",\n",
    ")"
   ]
  },
  {
   "cell_type": "code",
   "execution_count": 9,
   "id": "f2167fbd",
   "metadata": {
    "ExecuteTime": {
     "end_time": "2024-08-11T05:35:03.047899Z",
     "start_time": "2024-08-11T05:35:02.324609Z"
    }
   },
   "outputs": [
    {
     "data": {
      "image/png": "[encoded data removed]",
      "text/plain": [
       "<Figure size 691.2x460.8 with 1 Axes>"
      ]
     },
     "metadata": {
      "needs_background": "light"
     },
     "output_type": "display_data"
    }
   ],
   "source": [
    "plot_treated_vs_control(**common_opts)\n",
    "save_mpl_fig(\"../output/timeseries-stars-treated-012\")"
   ]
  },
  {
   "cell_type": "code",
   "execution_count": 10,
   "id": "85f35b0a",
   "metadata": {
    "ExecuteTime": {
     "end_time": "2024-08-11T05:35:03.860906Z",
     "start_time": "2024-08-11T05:35:03.050699Z"
    }
   },
   "outputs": [
    {
     "data": {
      "image/png": "[encoded data removed]",
      "text/plain": [
       "<Figure size 691.2x460.8 with 1 Axes>"
      ]
     },
     "metadata": {
      "needs_background": "light"
     },
     "output_type": "display_data"
    }
   ],
   "source": [
    "plot_treated_vs_control(**common_opts, estimator=np.median)\n",
    "save_mpl_fig(\"../output/timeseries-stars-treated-012-medians\")"
   ]
  },
  {
   "cell_type": "code",
   "execution_count": 11,
   "id": "8fc427e4",
   "metadata": {
    "ExecuteTime": {
     "end_time": "2024-08-11T05:35:08.135599Z",
     "start_time": "2024-08-11T05:35:08.115753Z"
    }
   },
   "outputs": [
    {
     "data": {
      "text/plain": [
       "485"
      ]
     },
     "execution_count": 11,
     "metadata": {},
     "output_type": "execute_result"
    }
   ],
   "source": [
    "df_stars.query(\"treated2==0\")[\"fileslug\"].nunique()"
   ]
  },
  {
   "cell_type": "code",
   "execution_count": 12,
   "id": "fa25834b",
   "metadata": {
    "ExecuteTime": {
     "end_time": "2024-08-11T05:35:08.408015Z",
     "start_time": "2024-08-11T05:35:08.398357Z"
    }
   },
   "outputs": [
    {
     "data": {
      "text/plain": [
       "75"
      ]
     },
     "execution_count": 12,
     "metadata": {},
     "output_type": "execute_result"
    }
   ],
   "source": [
    "df_stars.query(\"treated2==1\")[\"fileslug\"].nunique()"
   ]
  },
  {
   "cell_type": "code",
   "execution_count": 13,
   "id": "7ba46445",
   "metadata": {
    "ExecuteTime": {
     "end_time": "2024-08-11T05:35:08.698372Z",
     "start_time": "2024-08-11T05:35:08.693062Z"
    }
   },
   "outputs": [
    {
     "data": {
      "text/plain": [
       "25"
      ]
     },
     "execution_count": 13,
     "metadata": {},
     "output_type": "execute_result"
    }
   ],
   "source": [
    "df_stars.query(\"treated2==2\")[\"fileslug\"].nunique()"
   ]
  },
  {
   "cell_type": "code",
   "execution_count": null,
   "id": "9c816a3a",
   "metadata": {},
   "outputs": [],
   "source": []
  }
 ],
 "metadata": {
  "kernelspec": {
   "display_name": "Python 3 (ipykernel)",
   "language": "python",
   "name": "python3"
  },
  "language_info": {
   "codemirror_mode": {
    "name": "ipython",
    "version": 3
   },
   "file_extension": ".py",
   "mimetype": "text/x-python",
   "name": "python",
   "nbconvert_exporter": "python",
   "pygments_lexer": "ipython3",
   "version": "3.10.11"
  },
  "toc": {
   "base_numbering": 1,
   "nav_menu": {},
   "number_sections": true,
   "sideBar": true,
   "skip_h1_title": false,
   "title_cell": "Table of Contents",
   "title_sidebar": "Contents",
   "toc_cell": false,
   "toc_position": {},
   "toc_section_display": true,
   "toc_window_display": false
  }
 },
 "nbformat": 4,
 "nbformat_minor": 5
}
