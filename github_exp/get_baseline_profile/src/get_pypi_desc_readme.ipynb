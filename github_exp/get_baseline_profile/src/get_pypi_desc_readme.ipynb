{
 "cells": [
  {
   "cell_type": "code",
   "execution_count": 1,
   "id": "89062f70",
   "metadata": {
    "ExecuteTime": {
     "end_time": "2023-05-29T11:15:59.620103Z",
     "start_time": "2023-05-29T11:15:58.984710Z"
    }
   },
   "outputs": [],
   "source": [
    "import os\n",
    "import time\n",
    "\n",
    "import pandas as pd\n",
    "import numpy as np\n",
    "import janitor\n",
    "import requests\n",
    "from bs4 import BeautifulSoup\n",
    "from tqdm.notebook import tqdm\n",
    "from urllib.parse import urlparse\n",
    "\n",
    "from utilities import read_jsongz\n",
    "\n",
    "cache_output_path = \"../input/cache_pypi_payload\""
   ]
  },
  {
   "cell_type": "code",
   "execution_count": 2,
   "id": "2119c465",
   "metadata": {
    "ExecuteTime": {
     "end_time": "2023-05-29T11:15:59.627135Z",
     "start_time": "2023-05-29T11:15:59.622414Z"
    },
    "code_folding": [
     0
    ]
   },
   "outputs": [],
   "source": [
    "def is_github_repo_path(url: str) -> bool:\n",
    "    \"\"\"Check whether a URL is a link to a GitHub repository.\n",
    "    \n",
    "    GitHub repositories have a username and a repo name.\n",
    "    Example: github.com/<user>/<repo>\n",
    "    \n",
    "    Parameters\n",
    "    ----------\n",
    "    url: str\n",
    "        URL to check.\n",
    "        \n",
    "    Raises\n",
    "    ------\n",
    "    AssertionError\n",
    "        Raises AssertionError when URL is not a github repo URL.\n",
    "        \n",
    "    Returns\n",
    "    -------\n",
    "    None\n",
    "    \"\"\"\n",
    "    try:\n",
    "        parsed_url = urlparse(url)\n",
    "    except AttributeError:\n",
    "        return False\n",
    "    \n",
    "    # Assert that domain is GitHub\n",
    "    try:\n",
    "        assert parsed_url.netloc == \"github.com\"\n",
    "    except AssertionError:\n",
    "        return False\n",
    "    \n",
    "\n",
    "    \n",
    "    # Remove the trailing \"/\" at the start and end of the string\n",
    "    path = parsed_url.path\n",
    "    if path.startswith(\"/\"):\n",
    "        path = path[1:]\n",
    "    if path.endswith(\"/\"):\n",
    "        path = path[:-1]\n",
    "        \n",
    "    # Assert that the path is of the form /<user>/<repo>\n",
    "    path_components = path.split(\"/\")\n",
    "    try:\n",
    "        assert len(path_components) == 2\n",
    "    except AssertionError:\n",
    "        return False\n",
    "    \n",
    "    # Assert that github url is not a sponsors page\n",
    "    # E.g., https://github.com/sponsors/EinKara/ (real example)\n",
    "    if \"sponsors\" in path_components[0]:\n",
    "        return False\n",
    "    \n",
    "    return True"
   ]
  },
  {
   "cell_type": "code",
   "execution_count": 3,
   "id": "94584d40",
   "metadata": {
    "ExecuteTime": {
     "end_time": "2023-05-29T11:15:59.840105Z",
     "start_time": "2023-05-29T11:15:59.629062Z"
    },
    "code_folding": []
   },
   "outputs": [
    {
     "data": {
      "application/vnd.jupyter.widget-view+json": {
       "model_id": "c03b0bd053954d43be64142c661eb641",
       "version_major": 2,
       "version_minor": 0
      },
      "text/plain": [
       "  0%|          | 0/622 [00:00<?, ?it/s]"
      ]
     },
     "metadata": {},
     "output_type": "display_data"
    },
    {
     "name": "stderr",
     "output_type": "stream",
     "text": [
      "/tmp/ipykernel_21696/4040733362.py:17: MarkupResemblesLocatorWarning: The input looks more like a filename than markup. You may want to open this file and pass the filehandle into Beautiful Soup.\n",
      "  soup = BeautifulSoup(raw_readme, \"html.parser\")\n"
     ]
    }
   ],
   "source": [
    "data_list = []\n",
    "c = 0\n",
    "for filename in tqdm(os.listdir(cache_output_path)):\n",
    "    assert filename.endswith(\".json.gz\")\n",
    "\n",
    "    package = filename.replace(\".json.gz\", \"\")\n",
    "\n",
    "    data = read_jsongz(os.path.join(cache_output_path, filename))\n",
    "    requirements = data[\"info\"][\"requires_dist\"]\n",
    "    if requirements:\n",
    "        n_requirements = len(data[\"info\"][\"requires_dist\"])\n",
    "    else:\n",
    "        n_requirements = 0\n",
    "    raw_readme = data[\"info\"][\"description\"]\n",
    "    raw_readme_len = len(raw_readme)\n",
    "\n",
    "    soup = BeautifulSoup(raw_readme, \"html.parser\")\n",
    "    processed_readme = soup.get_text()\n",
    "    processed_readme_len = len(processed_readme)\n",
    "\n",
    "    ## Retrieve GitHub URL ---------------------------------------------------\n",
    "    github_url = np.nan\n",
    "    for key, url in data[\"info\"][\"project_urls\"].items():\n",
    "        if is_github_repo_path(url):\n",
    "            github_url = url\n",
    "    \n",
    "    if pd.isna(github_url):\n",
    "        print(\"fuck...\")\n",
    "        c+=1\n",
    "    data_list.append(\n",
    "        [\n",
    "            package,\n",
    "            github_url,\n",
    "            n_requirements,\n",
    "            raw_readme_len,\n",
    "            processed_readme_len,\n",
    "            raw_readme,\n",
    "            processed_readme,\n",
    "        ]\n",
    "    )"
   ]
  },
  {
   "cell_type": "code",
   "execution_count": 4,
   "id": "62a6c5d1",
   "metadata": {
    "ExecuteTime": {
     "end_time": "2023-05-29T11:15:59.915535Z",
     "start_time": "2023-05-29T11:15:59.843334Z"
    },
    "code_folding": []
   },
   "outputs": [
    {
     "data": {
      "text/html": [
       "<div>\n",
       "<style scoped>\n",
       "    .dataframe tbody tr th:only-of-type {\n",
       "        vertical-align: middle;\n",
       "    }\n",
       "\n",
       "    .dataframe tbody tr th {\n",
       "        vertical-align: top;\n",
       "    }\n",
       "\n",
       "    .dataframe thead th {\n",
       "        text-align: right;\n",
       "    }\n",
       "</style>\n",
       "<table border=\"1\" class=\"dataframe\">\n",
       "  <thead>\n",
       "    <tr style=\"text-align: right;\">\n",
       "      <th></th>\n",
       "      <th>pkg</th>\n",
       "      <th>github_url</th>\n",
       "      <th>n_requirements</th>\n",
       "      <th>raw_readme_len</th>\n",
       "      <th>processed_readme_len</th>\n",
       "      <th>raw_readme</th>\n",
       "      <th>processed_readme</th>\n",
       "      <th>slug</th>\n",
       "    </tr>\n",
       "  </thead>\n",
       "  <tbody>\n",
       "    <tr>\n",
       "      <th>0</th>\n",
       "      <td>hexapterygon</td>\n",
       "      <td>https://github.com/GiorgosXou/hexapterygon</td>\n",
       "      <td>0</td>\n",
       "      <td>0</td>\n",
       "      <td>0</td>\n",
       "      <td></td>\n",
       "      <td></td>\n",
       "      <td>giorgosxou/hexapterygon</td>\n",
       "    </tr>\n",
       "    <tr>\n",
       "      <th>1</th>\n",
       "      <td>hakurei-sqlalchemy-graphqlapi</td>\n",
       "      <td>https://github.com/cancan101/graphql-db-api</td>\n",
       "      <td>4</td>\n",
       "      <td>2237</td>\n",
       "      <td>2237</td>\n",
       "      <td># graphql-db-api [![PyPI version](https://badg...</td>\n",
       "      <td># graphql-db-api [![PyPI version](https://badg...</td>\n",
       "      <td>cancan101/graphql-db-api</td>\n",
       "    </tr>\n",
       "    <tr>\n",
       "      <th>2</th>\n",
       "      <td>odoo12-addon-fieldservice-calendar</td>\n",
       "      <td>https://github.com/OCA/field-service</td>\n",
       "      <td>2</td>\n",
       "      <td>3120</td>\n",
       "      <td>2723</td>\n",
       "      <td>========================\\nField Service - Cale...</td>\n",
       "      <td>========================\\nField Service - Cale...</td>\n",
       "      <td>oca/field-service</td>\n",
       "    </tr>\n",
       "    <tr>\n",
       "      <th>3</th>\n",
       "      <td>shark-sac-korean-editor</td>\n",
       "      <td>https://github.com/sharkwodm/koreditor</td>\n",
       "      <td>0</td>\n",
       "      <td>148</td>\n",
       "      <td>148</td>\n",
       "      <td>1. modkr 폴더를 다운로드폴더 안에넣어주세요\\r\\n2. Termux어플에서  ...</td>\n",
       "      <td>1. modkr 폴더를 다운로드폴더 안에넣어주세요\\r\\n2. Termux어플에서  ...</td>\n",
       "      <td>sharkwodm/koreditor</td>\n",
       "    </tr>\n",
       "    <tr>\n",
       "      <th>4</th>\n",
       "      <td>passwordtools-yt</td>\n",
       "      <td>https://github.com/Yair-T/passwordtools</td>\n",
       "      <td>0</td>\n",
       "      <td>1397</td>\n",
       "      <td>1397</td>\n",
       "      <td># passwordtools.\\r\\nThis Python package provid...</td>\n",
       "      <td># passwordtools.\\r\\nThis Python package provid...</td>\n",
       "      <td>yair-t/passwordtools</td>\n",
       "    </tr>\n",
       "    <tr>\n",
       "      <th>...</th>\n",
       "      <td>...</td>\n",
       "      <td>...</td>\n",
       "      <td>...</td>\n",
       "      <td>...</td>\n",
       "      <td>...</td>\n",
       "      <td>...</td>\n",
       "      <td>...</td>\n",
       "      <td>...</td>\n",
       "    </tr>\n",
       "    <tr>\n",
       "      <th>617</th>\n",
       "      <td>winavsos</td>\n",
       "      <td>https://github.com/Tomzy2506/AVSOS</td>\n",
       "      <td>15</td>\n",
       "      <td>0</td>\n",
       "      <td>0</td>\n",
       "      <td></td>\n",
       "      <td></td>\n",
       "      <td>tomzy2506/avsos</td>\n",
       "    </tr>\n",
       "    <tr>\n",
       "      <th>618</th>\n",
       "      <td>hydro-tune</td>\n",
       "      <td>https://github.com/S-Lab-System-Group/Hydro</td>\n",
       "      <td>0</td>\n",
       "      <td>0</td>\n",
       "      <td>0</td>\n",
       "      <td></td>\n",
       "      <td></td>\n",
       "      <td>s-lab-system-group/hydro</td>\n",
       "    </tr>\n",
       "    <tr>\n",
       "      <th>619</th>\n",
       "      <td>sphericart-torch</td>\n",
       "      <td>https://github.com/lab-cosmo/sphericart</td>\n",
       "      <td>0</td>\n",
       "      <td>213</td>\n",
       "      <td>213</td>\n",
       "      <td># TorchScript bindings to sphericart\\n\\nThis p...</td>\n",
       "      <td># TorchScript bindings to sphericart\\n\\nThis p...</td>\n",
       "      <td>lab-cosmo/sphericart</td>\n",
       "    </tr>\n",
       "    <tr>\n",
       "      <th>620</th>\n",
       "      <td>pwnmodules</td>\n",
       "      <td>https://github.com/XKaguya/PwnModules</td>\n",
       "      <td>1</td>\n",
       "      <td>86</td>\n",
       "      <td>86</td>\n",
       "      <td>A open-source Pwntools Extern Functions.\\r\\nUs...</td>\n",
       "      <td>A open-source Pwntools Extern Functions.\\r\\nUs...</td>\n",
       "      <td>xkaguya/pwnmodules</td>\n",
       "    </tr>\n",
       "    <tr>\n",
       "      <th>621</th>\n",
       "      <td>mypy-boto3-osis</td>\n",
       "      <td>https://github.com/youtype/mypy_boto3_builder</td>\n",
       "      <td>1</td>\n",
       "      <td>11760</td>\n",
       "      <td>11119</td>\n",
       "      <td>&lt;a id=\"mypy-boto3-osis\"&gt;&lt;/a&gt;\\n\\n# mypy-boto3-o...</td>\n",
       "      <td>\\n\\n# mypy-boto3-osis\\n\\n[![PyPI - mypy-boto3-...</td>\n",
       "      <td>youtype/mypy_boto3_builder</td>\n",
       "    </tr>\n",
       "  </tbody>\n",
       "</table>\n",
       "<p>622 rows × 8 columns</p>\n",
       "</div>"
      ],
      "text/plain": [
       "                                    pkg   \n",
       "0                          hexapterygon  \\\n",
       "1         hakurei-sqlalchemy-graphqlapi   \n",
       "2    odoo12-addon-fieldservice-calendar   \n",
       "3               shark-sac-korean-editor   \n",
       "4                      passwordtools-yt   \n",
       "..                                  ...   \n",
       "617                            winavsos   \n",
       "618                          hydro-tune   \n",
       "619                    sphericart-torch   \n",
       "620                          pwnmodules   \n",
       "621                     mypy-boto3-osis   \n",
       "\n",
       "                                        github_url  n_requirements   \n",
       "0       https://github.com/GiorgosXou/hexapterygon               0  \\\n",
       "1      https://github.com/cancan101/graphql-db-api               4   \n",
       "2             https://github.com/OCA/field-service               2   \n",
       "3           https://github.com/sharkwodm/koreditor               0   \n",
       "4          https://github.com/Yair-T/passwordtools               0   \n",
       "..                                             ...             ...   \n",
       "617             https://github.com/Tomzy2506/AVSOS              15   \n",
       "618    https://github.com/S-Lab-System-Group/Hydro               0   \n",
       "619        https://github.com/lab-cosmo/sphericart               0   \n",
       "620          https://github.com/XKaguya/PwnModules               1   \n",
       "621  https://github.com/youtype/mypy_boto3_builder               1   \n",
       "\n",
       "     raw_readme_len  processed_readme_len   \n",
       "0                 0                     0  \\\n",
       "1              2237                  2237   \n",
       "2              3120                  2723   \n",
       "3               148                   148   \n",
       "4              1397                  1397   \n",
       "..              ...                   ...   \n",
       "617               0                     0   \n",
       "618               0                     0   \n",
       "619             213                   213   \n",
       "620              86                    86   \n",
       "621           11760                 11119   \n",
       "\n",
       "                                            raw_readme   \n",
       "0                                                       \\\n",
       "1    # graphql-db-api [![PyPI version](https://badg...   \n",
       "2    ========================\\nField Service - Cale...   \n",
       "3    1. modkr 폴더를 다운로드폴더 안에넣어주세요\\r\\n2. Termux어플에서  ...   \n",
       "4    # passwordtools.\\r\\nThis Python package provid...   \n",
       "..                                                 ...   \n",
       "617                                                      \n",
       "618                                                      \n",
       "619  # TorchScript bindings to sphericart\\n\\nThis p...   \n",
       "620  A open-source Pwntools Extern Functions.\\r\\nUs...   \n",
       "621  <a id=\"mypy-boto3-osis\"></a>\\n\\n# mypy-boto3-o...   \n",
       "\n",
       "                                      processed_readme   \n",
       "0                                                       \\\n",
       "1    # graphql-db-api [![PyPI version](https://badg...   \n",
       "2    ========================\\nField Service - Cale...   \n",
       "3    1. modkr 폴더를 다운로드폴더 안에넣어주세요\\r\\n2. Termux어플에서  ...   \n",
       "4    # passwordtools.\\r\\nThis Python package provid...   \n",
       "..                                                 ...   \n",
       "617                                                      \n",
       "618                                                      \n",
       "619  # TorchScript bindings to sphericart\\n\\nThis p...   \n",
       "620  A open-source Pwntools Extern Functions.\\r\\nUs...   \n",
       "621  \\n\\n# mypy-boto3-osis\\n\\n[![PyPI - mypy-boto3-...   \n",
       "\n",
       "                           slug  \n",
       "0       giorgosxou/hexapterygon  \n",
       "1      cancan101/graphql-db-api  \n",
       "2             oca/field-service  \n",
       "3           sharkwodm/koreditor  \n",
       "4          yair-t/passwordtools  \n",
       "..                          ...  \n",
       "617             tomzy2506/avsos  \n",
       "618    s-lab-system-group/hydro  \n",
       "619        lab-cosmo/sphericart  \n",
       "620          xkaguya/pwnmodules  \n",
       "621  youtype/mypy_boto3_builder  \n",
       "\n",
       "[622 rows x 8 columns]"
      ]
     },
     "execution_count": 4,
     "metadata": {},
     "output_type": "execute_result"
    }
   ],
   "source": [
    "df = (pd.DataFrame(\n",
    "    data_list,\n",
    "    columns=[\n",
    "        \"pkg\",\n",
    "        \"github_url\",\n",
    "        \"n_requirements\",\n",
    "        \"raw_readme_len\",\n",
    "        \"processed_readme_len\",\n",
    "        \"raw_readme\",\n",
    "        \"processed_readme\",\n",
    "    ],)\n",
    "            ## Get Slug (e.g., user/repo) ------------------------------------------\n",
    "    .assign(slug=lambda df: df[\"github_url\"].str.replace(\"https://github.com/\", \"\"))\n",
    "    .assign(slug=lambda df: df[\"slug\"].apply(lambda x: x[:-1] if x.endswith(\"/\") else x))\n",
    "    .assign(slug=lambda df: df[\"slug\"].str.lower().str.strip())\n",
    ")\n",
    "#       ## Merge to get GitHub slug from URL------------------------------------\n",
    "#       .merge((\n",
    "#           pd.read_csv(\"../input/check-github-url.csv\")\n",
    "#           .query(\"gh_url_check==1\")\n",
    "#           .select_columns([\"pkg\", \"github_url\", \"github\"])\n",
    "#       ), how=\"left\", on=\"pkg\", validate=\"1:1\", indicator=True\n",
    "#       )\n",
    "\n",
    "#      )\n",
    "# assert 622 == len(df.query(\"_merge=='both'\"))\n",
    "# df = df.remove_columns(\"_merge\")\n",
    "df.to_csv(\"../output/pypi_readme.csv\", index=False)\n",
    "\n",
    "df"
   ]
  },
  {
   "cell_type": "markdown",
   "id": "d7c5dc00",
   "metadata": {},
   "source": [
    "### Check - GitHub URL discrepancies seem to originate from user's setup files"
   ]
  },
  {
   "cell_type": "code",
   "execution_count": 5,
   "id": "8ece8101",
   "metadata": {
    "ExecuteTime": {
     "end_time": "2023-05-29T11:15:59.921133Z",
     "start_time": "2023-05-29T11:15:59.918740Z"
    },
    "scrolled": true
   },
   "outputs": [],
   "source": [
    "# df[df.duplicated(\"github_url\", keep=False)].sort_values(\"github_url\")"
   ]
  },
  {
   "cell_type": "code",
   "execution_count": 6,
   "id": "416885f1",
   "metadata": {
    "ExecuteTime": {
     "end_time": "2023-05-29T11:15:59.932100Z",
     "start_time": "2023-05-29T11:15:59.922677Z"
    }
   },
   "outputs": [
    {
     "data": {
      "text/plain": [
       "{'Bug Tracker': 'https://github.com/pypa/sampleproject/issues',\n",
       " 'Homepage': 'https://github.com/pypa/sampleproject'}"
      ]
     },
     "execution_count": 6,
     "metadata": {},
     "output_type": "execute_result"
    }
   ],
   "source": [
    "# One of the packages with URL as https://github.com/pypa/sampleproject\n",
    "# https://pypi.org/project/msgraphlib/\n",
    "data = read_jsongz(os.path.join(cache_output_path, \"msgraphlib.json.gz\"))\n",
    "data[\"info\"][\"project_urls\"]"
   ]
  },
  {
   "cell_type": "code",
   "execution_count": 7,
   "id": "0eb30a90",
   "metadata": {
    "ExecuteTime": {
     "end_time": "2023-05-29T11:15:59.941691Z",
     "start_time": "2023-05-29T11:15:59.935220Z"
    }
   },
   "outputs": [
    {
     "data": {
      "text/plain": [
       "{'Bug Tracker': 'https://github.com/pypa/sampleproject/issues',\n",
       " 'Homepage': 'https://github.com/pypa/sampleproject'}"
      ]
     },
     "execution_count": 7,
     "metadata": {},
     "output_type": "execute_result"
    }
   ],
   "source": [
    "# Another one...\n",
    "# https://pypi.org/project/colorfultxt/\n",
    "data = read_jsongz(os.path.join(cache_output_path, \"colorfultxt.json.gz\"))\n",
    "data[\"info\"][\"project_urls\"]"
   ]
  },
  {
   "cell_type": "code",
   "execution_count": 8,
   "id": "abfad9d5",
   "metadata": {
    "ExecuteTime": {
     "end_time": "2023-05-29T11:15:59.950061Z",
     "start_time": "2023-05-29T11:15:59.943941Z"
    }
   },
   "outputs": [
    {
     "data": {
      "text/plain": [
       "{'Homepage': 'https://github.com/javatechy/dokr'}"
      ]
     },
     "execution_count": 8,
     "metadata": {},
     "output_type": "execute_result"
    }
   ],
   "source": [
    "# Another one...\n",
    "data = read_jsongz(os.path.join(cache_output_path, \"local-age-detection-python-backend.json.gz\"))\n",
    "data[\"info\"][\"project_urls\"]"
   ]
  },
  {
   "cell_type": "code",
   "execution_count": null,
   "id": "504c7741",
   "metadata": {},
   "outputs": [],
   "source": []
  }
 ],
 "metadata": {
  "kernelspec": {
   "display_name": "Python 3 (ipykernel)",
   "language": "python",
   "name": "python3"
  },
  "language_info": {
   "codemirror_mode": {
    "name": "ipython",
    "version": 3
   },
   "file_extension": ".py",
   "mimetype": "text/x-python",
   "name": "python",
   "nbconvert_exporter": "python",
   "pygments_lexer": "ipython3",
   "version": "3.10.9"
  },
  "toc": {
   "base_numbering": 1,
   "nav_menu": {},
   "number_sections": true,
   "sideBar": true,
   "skip_h1_title": false,
   "title_cell": "Table of Contents",
   "title_sidebar": "Contents",
   "toc_cell": false,
   "toc_position": {},
   "toc_section_display": true,
   "toc_window_display": false
  }
 },
 "nbformat": 4,
 "nbformat_minor": 5
}
