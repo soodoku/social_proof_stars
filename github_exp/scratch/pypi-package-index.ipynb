{
 "cells": [
  {
   "cell_type": "markdown",
   "id": "bd8e0df6",
   "metadata": {},
   "source": [
    "* https://pypi.org/simple contains a listing of all pypi packages\n",
    "* Try indexing all package names from https://pypi.org/simple\n",
    "* Can be used to infer new packages\n",
    "* Can be used to get package metadata: \"https://pypi.org/pypi/{package_name}/json\" \n",
    "\n",
    "(There is also https://github.com/sethmlarson/pypi-data and the BigQuery dump)"
   ]
  },
  {
   "cell_type": "code",
   "execution_count": 1,
   "id": "23f45498",
   "metadata": {
    "ExecuteTime": {
     "end_time": "2023-04-30T03:49:14.542169Z",
     "start_time": "2023-04-30T03:49:14.408935Z"
    }
   },
   "outputs": [],
   "source": [
    "import requests\n",
    "from bs4 import BeautifulSoup\n",
    "import json\n",
    "from datetime import datetime"
   ]
  },
  {
   "cell_type": "code",
   "execution_count": 2,
   "id": "45a59294",
   "metadata": {
    "ExecuteTime": {
     "end_time": "2023-04-30T03:49:35.334415Z",
     "start_time": "2023-04-30T03:49:14.545924Z"
    }
   },
   "outputs": [],
   "source": [
    "# Send the HTTP GET request\n",
    "url = \"https://pypi.org/simple/\"\n",
    "response = requests.get(url)\n",
    "assert response.status_code==200\n",
    "\n",
    "# Parse the HTML content\n",
    "soup = BeautifulSoup(response.content, \"html.parser\")\n",
    "\n",
    "# Get package names\n",
    "package_names = []\n",
    "for link in soup.find_all(\"a\"):\n",
    "    package_name = link.get(\"href\").rstrip(\"/\").split(\"/\")[-1]\n",
    "    package_names.append(package_name)"
   ]
  },
  {
   "cell_type": "code",
   "execution_count": 3,
   "id": "d7354101",
   "metadata": {
    "ExecuteTime": {
     "end_time": "2023-04-30T03:49:35.340901Z",
     "start_time": "2023-04-30T03:49:35.336638Z"
    },
    "scrolled": true
   },
   "outputs": [
    {
     "name": "stdout",
     "output_type": "stream",
     "text": [
      "Number of PyPI packages: 450,433\n",
      "================================\n",
      "['0', '0-0', '000', '00000a', '0-0-1', '00101s', '00print-lol', '00smalinux', '0101', '0121', '01changer', '01d61084-d29e-11e9-96d1-7c5cf84ffe8e', '01-distributions', '021', '024travis-test024', '02exercicio', '0411-test', '0-618', '0805nexter', '090807040506030201testpip', '0-core-client', '0fela', '0html', '0imap', '0lever-so', '0lever-utils', '0-orchestrator', '0proto', '0rest', '0rss', '0staff', '0wdg9nbmpm', '0x', '0x01-autocert-dns-aliyun', '0x01-cubic-sdk', '0x01-letsencrypt', '0x10c-asm', '0x20bf', '0x2nac0nda', '0x-contract-addresses', '0x-contract-artifacts', '0x-contract-wrappers', '0x-json-schemas', '0x-middlewares', '0xmpp', '0x-order-utils', '0x-python', '0x-sra-client', '0x-web3', '1']\n",
      "['zzhfourth', 'zzhfun', 'zzhmodule', 'zzhnester', 'zzhprob', 'zzhprob-fifth', 'zzhprobm', 'zzhprobsecond', 'zzhprob-second', 'zzhprobsixth', 'zzhtestlib', 'zzhtongjione', 'zzip', 'zzjjkk', 'zzkkz', 'zzktest', 'zzload', 'zzlog', 'zzltest', 'zzmm', 'zz-nester', 'zzo-bibtex-parser', 'zzpy', 'zzr', 'zzsnml', 'zzsn-nlp', 'zz-spider', 'zzstocklib-pkg-pubbyzz', 'zzsukitest', 'zz-test', 'zzt-message', 'zztoolbox', 'zzu-low', 'zzu-low2', 'zzw-py', 'zzx-deep-genome', 'zzy-axcat', 'zzyzx', 'zzz', 'zzz001', 'zzzeeksphinx', 'zzzfs', 'zzzing', 'zzzpypitest', 'zzzpypitest2', 'zzzutils', 'zzz-web', 'zzzymobbe', 'zzzz', 'zzzzzzzzz']\n"
     ]
    }
   ],
   "source": [
    "print(f\"Number of PyPI packages: {len(package_names):,}\")\n",
    "print(\"================================\")\n",
    "# Show first 50 (alphapetical)\n",
    "print(package_names[:50])\n",
    "# Show last 50 (alphapetical)\n",
    "print(package_names[-50:])"
   ]
  },
  {
   "cell_type": "code",
   "execution_count": 4,
   "id": "022240a5",
   "metadata": {
    "ExecuteTime": {
     "end_time": "2023-04-30T03:49:35.362733Z",
     "start_time": "2023-04-30T03:49:35.344195Z"
    }
   },
   "outputs": [],
   "source": [
    "# sanity check\n",
    "packages_to_check = [\n",
    "    \"pandas\", \n",
    "    \"forestplot\", \n",
    "    \"pranaam\", \n",
    "    \"numpy\", \n",
    "    \"requests\",\n",
    "]\n",
    "\n",
    "for package in packages_to_check:\n",
    "    assert package in package_names"
   ]
  },
  {
   "cell_type": "code",
   "execution_count": 5,
   "id": "8e50175e",
   "metadata": {
    "ExecuteTime": {
     "end_time": "2023-04-30T03:49:35.783723Z",
     "start_time": "2023-04-30T03:49:35.366692Z"
    }
   },
   "outputs": [],
   "source": [
    "datetimenow_str = datetime.now().strftime(\"%Y-%m-%d\")\n",
    "\n",
    "with open(f\"pypi-packages{datetimenow_str}.json\", 'w') as fh:\n",
    "    json.dump(package_names, fh) "
   ]
  },
  {
   "cell_type": "code",
   "execution_count": 6,
   "id": "8d4bd869",
   "metadata": {
    "ExecuteTime": {
     "end_time": "2023-04-30T03:49:36.165547Z",
     "start_time": "2023-04-30T03:49:35.786374Z"
    }
   },
   "outputs": [],
   "source": [
    "with open(f\"pypi-packages{datetimenow_str}.json\", 'w') as fh:\n",
    "    json.dump(package_names, fh) "
   ]
  },
  {
   "cell_type": "code",
   "execution_count": 7,
   "id": "d62da24a",
   "metadata": {
    "ExecuteTime": {
     "end_time": "2023-04-30T03:49:36.171355Z",
     "start_time": "2023-04-30T03:49:36.168007Z"
    },
    "scrolled": true
   },
   "outputs": [],
   "source": [
    "# with open(f\"pypi-packages2023-04-24.json\", 'r') as fh:\n",
    "#     package_names = json.load(fh) \n",
    "# package_names[:5]"
   ]
  },
  {
   "cell_type": "code",
   "execution_count": null,
   "id": "5edd7f04",
   "metadata": {},
   "outputs": [],
   "source": []
  },
  {
   "cell_type": "code",
   "execution_count": null,
   "id": "f53f30c5",
   "metadata": {},
   "outputs": [],
   "source": []
  }
 ],
 "metadata": {
  "kernelspec": {
   "display_name": "Python 3 (ipykernel)",
   "language": "python",
   "name": "python3"
  },
  "language_info": {
   "codemirror_mode": {
    "name": "ipython",
    "version": 3
   },
   "file_extension": ".py",
   "mimetype": "text/x-python",
   "name": "python",
   "nbconvert_exporter": "python",
   "pygments_lexer": "ipython3",
   "version": "3.10.9"
  },
  "toc": {
   "base_numbering": 1,
   "nav_menu": {},
   "number_sections": true,
   "sideBar": true,
   "skip_h1_title": false,
   "title_cell": "Table of Contents",
   "title_sidebar": "Contents",
   "toc_cell": false,
   "toc_position": {},
   "toc_section_display": true,
   "toc_window_display": false
  }
 },
 "nbformat": 4,
 "nbformat_minor": 5
}
