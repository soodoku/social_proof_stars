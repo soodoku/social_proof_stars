{
 "cells": [
  {
   "cell_type": "code",
   "execution_count": 1,
   "id": "68e3756e",
   "metadata": {
    "ExecuteTime": {
     "end_time": "2024-08-02T15:07:22.100930Z",
     "start_time": "2024-08-02T15:07:21.488744Z"
    }
   },
   "outputs": [
    {
     "data": {
      "text/html": [
       "<div>\n",
       "<style scoped>\n",
       "    .dataframe tbody tr th:only-of-type {\n",
       "        vertical-align: middle;\n",
       "    }\n",
       "\n",
       "    .dataframe tbody tr th {\n",
       "        vertical-align: top;\n",
       "    }\n",
       "\n",
       "    .dataframe thead th {\n",
       "        text-align: right;\n",
       "    }\n",
       "</style>\n",
       "<table border=\"1\" class=\"dataframe\">\n",
       "  <thead>\n",
       "    <tr style=\"text-align: right;\">\n",
       "      <th></th>\n",
       "      <th>pkg</th>\n",
       "      <th>return_code</th>\n",
       "      <th>github_url</th>\n",
       "      <th>homepage</th>\n",
       "      <th>earliest_release</th>\n",
       "      <th>gh_url_check</th>\n",
       "      <th>github</th>\n",
       "    </tr>\n",
       "  </thead>\n",
       "  <tbody>\n",
       "    <tr>\n",
       "      <th>3</th>\n",
       "      <td>jawalang</td>\n",
       "      <td>200.0</td>\n",
       "      <td>https://github.com/Arsybai/jawa-language</td>\n",
       "      <td>https://github.com/Arsybai/jawa-language</td>\n",
       "      <td>2023-04-25T00:08:33</td>\n",
       "      <td>1.0</td>\n",
       "      <td>https://github.com/Arsybai/jawa-language</td>\n",
       "    </tr>\n",
       "    <tr>\n",
       "      <th>5</th>\n",
       "      <td>foccoerpy</td>\n",
       "      <td>200.0</td>\n",
       "      <td>https://github.com/GaNiziolek/FoccoERPy</td>\n",
       "      <td>NaN</td>\n",
       "      <td>2023-04-25T13:26:24</td>\n",
       "      <td>1.0</td>\n",
       "      <td>https://github.com/GaNiziolek/FoccoERPy</td>\n",
       "    </tr>\n",
       "    <tr>\n",
       "      <th>6</th>\n",
       "      <td>evaluateqa</td>\n",
       "      <td>200.0</td>\n",
       "      <td>https://github.com/MihailSalnikov/EvaluateQA</td>\n",
       "      <td>https://github.com/MihailSalnikov/EvaluateQA</td>\n",
       "      <td>2023-04-26T12:10:16</td>\n",
       "      <td>1.0</td>\n",
       "      <td>https://github.com/MihailSalnikov/EvaluateQA</td>\n",
       "    </tr>\n",
       "  </tbody>\n",
       "</table>\n",
       "</div>"
      ],
      "text/plain": [
       "          pkg  return_code                                    github_url  \\\n",
       "3    jawalang        200.0      https://github.com/Arsybai/jawa-language   \n",
       "5   foccoerpy        200.0       https://github.com/GaNiziolek/FoccoERPy   \n",
       "6  evaluateqa        200.0  https://github.com/MihailSalnikov/EvaluateQA   \n",
       "\n",
       "                                       homepage     earliest_release  \\\n",
       "3      https://github.com/Arsybai/jawa-language  2023-04-25T00:08:33   \n",
       "5                                           NaN  2023-04-25T13:26:24   \n",
       "6  https://github.com/MihailSalnikov/EvaluateQA  2023-04-26T12:10:16   \n",
       "\n",
       "   gh_url_check                                        github  \n",
       "3           1.0      https://github.com/Arsybai/jawa-language  \n",
       "5           1.0       https://github.com/GaNiziolek/FoccoERPy  \n",
       "6           1.0  https://github.com/MihailSalnikov/EvaluateQA  "
      ]
     },
     "execution_count": 1,
     "metadata": {},
     "output_type": "execute_result"
    }
   ],
   "source": [
    "import os\n",
    "import sys\n",
    "from datetime import datetime\n",
    "import pandas as pd\n",
    "# import pypinfo\n",
    "import subprocess\n",
    "from subprocess import CalledProcessError\n",
    "import json\n",
    "from tqdm.notebook import tqdm\n",
    "\n",
    "from utilities import read_json, save_json, get_datestr_list\n",
    "\n",
    "df = (\n",
    "    pd\n",
    "    .read_csv(\"../input/check-github-url.csv\")\n",
    "    .query(\"gh_url_check==1\")\n",
    ")\n",
    "list_packages = df[\"pkg\"].tolist()\n",
    "df.head(3)"
   ]
  },
  {
   "cell_type": "code",
   "execution_count": 2,
   "id": "838f2784",
   "metadata": {
    "ExecuteTime": {
     "end_time": "2024-08-02T15:07:22.766045Z",
     "start_time": "2024-08-02T15:07:22.760590Z"
    },
    "scrolled": true
   },
   "outputs": [
    {
     "data": {
      "text/plain": [
       "([('2023-04-24', '2023-04-25'),\n",
       "  ('2023-04-25', '2023-04-26'),\n",
       "  ('2023-04-26', '2023-04-27')],\n",
       " [('2023-10-28', '2023-10-29'),\n",
       "  ('2023-10-29', '2023-10-30'),\n",
       "  ('2023-10-30', '2023-10-31')])"
      ]
     },
     "execution_count": 2,
     "metadata": {},
     "output_type": "execute_result"
    }
   ],
   "source": [
    "start_date = \"2023-04-24\"\n",
    "# end_date = datetime.today().strftime(\"%Y-%m-%d\")\n",
    "end_date = \"2023-10-31\"\n",
    "\n",
    "dates = get_datestr_list(start_date, end_date)\n",
    "\n",
    "date_tuples = [(dates[i], dates[i+1]) for i in range(len(dates)-1)]\n",
    "date_tuples[:3], date_tuples[-3:]"
   ]
  },
  {
   "cell_type": "code",
   "execution_count": 3,
   "id": "960eff28",
   "metadata": {
    "ExecuteTime": {
     "end_time": "2024-08-02T23:25:15.218525Z",
     "start_time": "2024-08-02T15:07:23.384854Z"
    },
    "code_folding": [
     42
    ]
   },
   "outputs": [
    {
     "data": {
      "application/vnd.jupyter.widget-view+json": {
       "model_id": "1f36db8ed8954ebe8818e6c29b4be31d",
       "version_major": 2,
       "version_minor": 0
      },
      "text/plain": [
       "  0%|          | 0/622 [00:00<?, ?it/s]"
      ]
     },
     "metadata": {},
     "output_type": "display_data"
    },
    {
     "name": "stdout",
     "output_type": "stream",
     "text": [
      "Failed to decode JSON: Expecting value: line 1 column 1 (char 0) for 2023-09-12_2023-09-13_hoyo-daily-logins-helper.json\n",
      "Failed to decode JSON: Expecting value: line 1 column 1 (char 0) for 2023-09-25_2023-09-26_cset.json\n"
     ]
    }
   ],
   "source": [
    "output_path = \"../output/cache_pypi_downloads_payload_allinstallers\"\n",
    "for package in tqdm(list_packages):\n",
    "#     if package==\"findsystemfontsfilename\":\n",
    "#         continue\n",
    "    for day in date_tuples:\n",
    "        start_date, end_date = day\n",
    "#         print(start_date, end_date)\n",
    "        filename = f\"{start_date}_{end_date}_{package}.json\"\n",
    "        savepath = os.path.join(output_path, filename)\n",
    "#         print(filename)\n",
    "    \n",
    "        # check if file already exist,\n",
    "        if os.path.exists(savepath):\n",
    "            # Assert that payload is correct\n",
    "            try:\n",
    "                cached_data = read_json(savepath)\n",
    "            except json.JSONDecodeError as e:\n",
    "                # Handle the case where JSON is not valid\n",
    "                print(f\"Failed to decode JSON: {e} for {filename}\")\n",
    "                continue\n",
    "            \n",
    "            cached_package = cached_data[\"args\"][-2]\n",
    "            try:\n",
    "                assert cached_package==package\n",
    "                continue\n",
    "            except AssertionError:\n",
    "                print(\"Cached wrong package..re-querying..\")\n",
    "                pass\n",
    "            \n",
    "        # form shell command\n",
    "        cmd = [\n",
    "            \"pypinfo\", \n",
    "            \"-j\",  # return in JSON format\"\n",
    "            \"--start-date\",\n",
    "            f\"{start_date}\",\n",
    "            \"--end-date\",\n",
    "            f\"{end_date}\",\n",
    "            \"--all\",  # return dl by installers\n",
    "            f\"{package}\",  # pkg to query\n",
    "            \"installer\",  # return dl by installers\n",
    "        ]\n",
    "        \n",
    "        try:\n",
    "            data = subprocess.run(cmd, text=True, check=True, capture_output=True)\n",
    "            json_payload = json.loads(data.stdout)\n",
    "            json_payload[\"args\"] = data.args\n",
    "            \n",
    "            # save payload\n",
    "            save_json(json_payload, savepath)\n",
    "            \n",
    "        except CalledProcessError as e:\n",
    "            print(f\"CalledProcessError - {cmd}\")\n",
    "            print(e.stderr)\n",
    "            sys.exit(1)"
   ]
  },
  {
   "cell_type": "code",
   "execution_count": null,
   "id": "5e9cc40c",
   "metadata": {
    "ExecuteTime": {
     "end_time": "2024-06-13T05:11:19.950527Z",
     "start_time": "2024-06-13T05:11:19.834596Z"
    }
   },
   "outputs": [],
   "source": [
    "!ls"
   ]
  },
  {
   "cell_type": "code",
   "execution_count": null,
   "id": "62ec92d5",
   "metadata": {},
   "outputs": [],
   "source": []
  }
 ],
 "metadata": {
  "kernelspec": {
   "display_name": "Python 3 (ipykernel)",
   "language": "python",
   "name": "python3"
  },
  "language_info": {
   "codemirror_mode": {
    "name": "ipython",
    "version": 3
   },
   "file_extension": ".py",
   "mimetype": "text/x-python",
   "name": "python",
   "nbconvert_exporter": "python",
   "pygments_lexer": "ipython3",
   "version": "3.10.11"
  },
  "toc": {
   "base_numbering": 1,
   "nav_menu": {},
   "number_sections": true,
   "sideBar": true,
   "skip_h1_title": false,
   "title_cell": "Table of Contents",
   "title_sidebar": "Contents",
   "toc_cell": false,
   "toc_position": {},
   "toc_section_display": true,
   "toc_window_display": false
  }
 },
 "nbformat": 4,
 "nbformat_minor": 5
}
