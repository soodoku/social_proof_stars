{
 "cells": [
  {
   "cell_type": "markdown",
   "id": "ca7ca957-a77b-47b1-841d-0cca3e7e3b65",
   "metadata": {},
   "source": [
    "### Data Prep\n",
    "\n",
    "1. Download list of all the packages. Saved to pypi_package_list_06_03.txt\n",
    "2. Randomly sample 50k with seed of 42\n",
    "3. Get daily download data on the 50k from bigquery USING 01A_pypi_bg.sql. Save to bg-results...\n",
    "4. Recode installer_name to bot or not\n",
    "5. Filter to packages with 5 or more human downloads\n",
    "6. Add a column for treatment/control with seed of 42 and save to fin_dataset..."
   ]
  },
  {
   "cell_type": "code",
   "execution_count": null,
   "id": "c3d4765e-102e-452b-9ac5-68387e11aa25",
   "metadata": {},
   "outputs": [],
   "source": [
    "import pandas as pd\n",
    "from lxml import html\n",
    "import requests\n",
    "import numpy as np\n",
    "from numpy import random\n",
    "import csv\n",
    "import pandas"
   ]
  },
  {
   "cell_type": "code",
   "execution_count": 13,
   "id": "523bad63-7536-43c7-9f30-549f4f126b5c",
   "metadata": {},
   "outputs": [],
   "source": [
    "response = requests.get(\"https://pypi.org/simple/\")\n",
    "\n",
    "tree = html.fromstring(response.content)\n",
    "\n",
    "package_list = [package for package in tree.xpath('//a/text()')]"
   ]
  },
  {
   "cell_type": "code",
   "execution_count": 14,
   "id": "fa9d00a8-c818-4c3c-9875-edb2e1beb20c",
   "metadata": {},
   "outputs": [
    {
     "data": {
      "text/plain": [
       "458274"
      ]
     },
     "execution_count": 14,
     "metadata": {},
     "output_type": "execute_result"
    }
   ],
   "source": [
    "len(package_list)"
   ]
  },
  {
   "cell_type": "code",
   "execution_count": 47,
   "id": "12b0f15d-676a-4660-a7ea-acf2ad2b9c90",
   "metadata": {},
   "outputs": [],
   "source": [
    "# Open the file in write mode\n",
    "with open('pypi_package_list_06_03.txt', 'w') as file:\n",
    "    # Iterate over the elements of the list\n",
    "    for item in package_list:\n",
    "        # Write each element to the file\n",
    "        file.write(str(item) + '\\n')"
   ]
  },
  {
   "cell_type": "code",
   "execution_count": 15,
   "id": "09b4020e-93bf-4bc0-9f47-54acb0f99e02",
   "metadata": {},
   "outputs": [],
   "source": [
    "# Set the random seed\n",
    "random.seed(42)\n",
    "\n",
    "# Randomly sample from the list\n",
    "random_sample = random.choice(package_list, size=50000, replace=False)"
   ]
  },
  {
   "cell_type": "code",
   "execution_count": 16,
   "id": "17447c10-d5a7-4a89-8c1f-305ed870bc9f",
   "metadata": {},
   "outputs": [
    {
     "data": {
      "text/plain": [
       "50000"
      ]
     },
     "execution_count": 16,
     "metadata": {},
     "output_type": "execute_result"
    }
   ],
   "source": [
    "len(random_sample)"
   ]
  },
  {
   "cell_type": "code",
   "execution_count": 17,
   "id": "3b2b4fb4-f9ef-460a-9497-591232e8822c",
   "metadata": {},
   "outputs": [
    {
     "data": {
      "text/plain": [
       "array(['myssml', 'tornform', 'flex-dispatch', ..., 'okonomiyaki', 'chass',\n",
       "       'pyincore'], dtype='<U122')"
      ]
     },
     "execution_count": 17,
     "metadata": {},
     "output_type": "execute_result"
    }
   ],
   "source": [
    "random_sample"
   ]
  },
  {
   "cell_type": "code",
   "execution_count": 22,
   "id": "f8e75012-fef5-4484-8602-a11d5564115a",
   "metadata": {},
   "outputs": [],
   "source": [
    "# Define the list\n",
    "\n",
    "# Define the file path\n",
    "file_path = 'output.csv'\n",
    "\n",
    "# Open the file in write mode\n",
    "with open(file_path, 'w', newline='') as csv_file:\n",
    "    # Create a CSV writer object\n",
    "    writer = csv.writer(csv_file, quoting=csv.QUOTE_ALL)\n",
    "    \n",
    "    # Write the list as a single row\n",
    "    writer.writerow(random_sample)"
   ]
  },
  {
   "cell_type": "raw",
   "id": "f19e5e57-ff1c-4b8a-8058-5c47a9ac2032",
   "metadata": {},
   "source": [
    "## Run BigQuery\n",
    "\n",
    "SELECT\n",
    "  CAST(timestamp AS DATE) AS timestamp_date,\n",
    "  file.project AS file_project,\n",
    "  details.installer.name AS installer_name,\n",
    "  COUNT(*) AS downloads\n",
    "FROM `bigquery-public-data.pypi.file_downloads`\n",
    "WHERE\n",
    "  file.project IN ('indicate', 'tensorflow', 'piedomains') --- replace w/ output.csv\n",
    "    AND timestamp BETWEEN TIMESTAMP_SUB(CURRENT_TIMESTAMP(), INTERVAL 30 DAY) --- can change to 90/etc.\n",
    "    AND CURRENT_TIMESTAMP()\n",
    "GROUP BY\n",
    "  timestamp_date, file_project, installer_name\n",
    "ORDER BY\n",
    "  timestamp_date DESC, file_project ASC\n"
   ]
  },
  {
   "cell_type": "code",
   "execution_count": 42,
   "id": "45d8fb0c-5fc8-4b1f-b227-c1f6609f867c",
   "metadata": {},
   "outputs": [],
   "source": [
    "### Filter to at least 5 human downloads\n",
    "bq = pd.read_csv(\"bq-results-20230603-222533-1685831182985.csv\")"
   ]
  },
  {
   "cell_type": "code",
   "execution_count": 43,
   "id": "cc990b5d-059b-4b57-bbef-cd88aeb44841",
   "metadata": {},
   "outputs": [
    {
     "data": {
      "text/plain": [
       "array(['human', 'bot'], dtype=object)"
      ]
     },
     "execution_count": 43,
     "metadata": {},
     "output_type": "execute_result"
    }
   ],
   "source": [
    "bq['bot_or_not'] = bq['installer_name'].replace({'pip': 'human', \n",
    "                                                 'Browser': 'bot', \n",
    "                                                 'bandersnatch': 'bot',\n",
    "                                                 'setuptools': 'human',\n",
    "                                                 'Nexus': 'human',\n",
    "                                                 'requests': 'bot',\n",
    "                                                 'devpi': 'bot',\n",
    "                                                 'pdm': 'human',\n",
    "                                                 'Homebrew': 'human',\n",
    "                                                 'Artifactory': 'human',\n",
    "                                                 'OS': 'human',\n",
    "                                                 'Bazel': 'human',\n",
    "                                                 'pex': 'human',\n",
    "                                                 'conda': 'human',\n",
    "                                                 'chaquopy': 'human',\n",
    "                                                })\n",
    "bq.drop(['installer_name'], axis = 1)\n",
    "bq['bot_or_not'] = bq['bot_or_not'].fillna('bot')\n",
    "bq['bot_or_not'].unique()"
   ]
  },
  {
   "cell_type": "code",
   "execution_count": 44,
   "id": "740dd8e9-41b8-4314-b0ba-3e478cae739a",
   "metadata": {},
   "outputs": [
    {
     "data": {
      "text/plain": [
       "(23965, 2)"
      ]
     },
     "execution_count": 44,
     "metadata": {},
     "output_type": "execute_result"
    }
   ],
   "source": [
    "pip_df = bq[bq['bot_or_not'] == 'human']\n",
    "package_sum_pip_df = pip_df.groupby('file_project')['downloads'].sum().reset_index()\n",
    "package_sum_pip_df_5_plus = package_sum_pip_df[package_sum_pip_df['downloads'] >= 5] \n",
    "package_sum_pip_df_5_plus.shape"
   ]
  },
  {
   "cell_type": "code",
   "execution_count": 45,
   "id": "1c8da525-e429-4caa-a91d-bf59244e1c2a",
   "metadata": {},
   "outputs": [
    {
     "name": "stderr",
     "output_type": "stream",
     "text": [
      "/tmp/ipykernel_1934401/3457133780.py:4: SettingWithCopyWarning: \n",
      "A value is trying to be set on a copy of a slice from a DataFrame.\n",
      "Try using .loc[row_indexer,col_indexer] = value instead\n",
      "\n",
      "See the caveats in the documentation: https://pandas.pydata.org/pandas-docs/stable/user_guide/indexing.html#returning-a-view-versus-a-copy\n",
      "  package_sum_pip_df_5_plus.loc[:, 'treatment'] = np.random.choice([0, 1], size=len(package_sum_pip_df_5_plus), p=[0.8, 0.2])\n"
     ]
    }
   ],
   "source": [
    "np.random.seed(42)\n",
    "\n",
    "# Create a new column 'Random' with random values of 0 or 1\n",
    "package_sum_pip_df_5_plus.loc[:, 'treatment'] = np.random.choice([0, 1], size=len(package_sum_pip_df_5_plus), p=[0.8, 0.2])\n",
    "package_sum_pip_df_5_plus.to_csv(\"fin_dataset_treat_control.csv\", index = False)"
   ]
  },
  {
   "cell_type": "code",
   "execution_count": 46,
   "id": "0129514d-c301-4ca7-a920-d551601fe2c8",
   "metadata": {},
   "outputs": [
    {
     "data": {
      "text/plain": [
       "treatment\n",
       "0    19142\n",
       "1     4823\n",
       "Name: count, dtype: int64"
      ]
     },
     "execution_count": 46,
     "metadata": {},
     "output_type": "execute_result"
    }
   ],
   "source": [
    "package_sum_pip_df_5_plus['treatment'].value_counts()"
   ]
  },
  {
   "cell_type": "code",
   "execution_count": null,
   "id": "b74fee2f-0ff8-450d-971b-0fd6b6dde140",
   "metadata": {},
   "outputs": [],
   "source": []
  }
 ],
 "metadata": {
  "kernelspec": {
   "display_name": "Python 3 (ipykernel)",
   "language": "python",
   "name": "python3"
  },
  "language_info": {
   "codemirror_mode": {
    "name": "ipython",
    "version": 3
   },
   "file_extension": ".py",
   "mimetype": "text/x-python",
   "name": "python",
   "nbconvert_exporter": "python",
   "pygments_lexer": "ipython3",
   "version": "3.8.10"
  }
 },
 "nbformat": 4,
 "nbformat_minor": 5
}
