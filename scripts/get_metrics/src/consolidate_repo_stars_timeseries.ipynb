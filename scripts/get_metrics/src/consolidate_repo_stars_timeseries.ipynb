{
 "cells": [
  {
   "cell_type": "code",
   "execution_count": 1,
   "id": "adcf1a42-5ae7-4b3d-8a99-d9138438e04d",
   "metadata": {},
   "outputs": [],
   "source": [
    "import os\n",
    "import pandas as pd\n",
    "import gzip\n",
    "import json\n",
    "from tqdm.notebook import tqdm\n",
    "\n",
    "# see contabo server\n",
    "data_path = \"cache_payload/stars\""
   ]
  },
  {
   "cell_type": "code",
   "execution_count": null,
   "id": "6354884a-28c1-4f22-bb88-ea9083486bd6",
   "metadata": {
    "tags": []
   },
   "outputs": [
    {
     "data": {
      "application/json": {
       "ascii": false,
       "bar_format": null,
       "colour": null,
       "elapsed": 0.027081727981567383,
       "initial": 0,
       "n": 0,
       "ncols": null,
       "nrows": 44,
       "postfix": null,
       "prefix": "",
       "rate": null,
       "total": 20,
       "unit": "it",
       "unit_divisor": 1000,
       "unit_scale": false
      },
      "application/vnd.jupyter.widget-view+json": {
       "model_id": "a91c54103edc4a3f9a2ceb0a88696a73",
       "version_major": 2,
       "version_minor": 0
      },
      "text/plain": [
       "  0%|          | 0/20 [00:00<?, ?it/s]"
      ]
     },
     "metadata": {},
     "output_type": "display_data"
    }
   ],
   "source": [
    "data = []\n",
    "for date in tqdm(os.listdir(data_path)):\n",
    "# for date in os.listdir(data_path):\n",
    "    # print(date)\n",
    "    for pkg_date_snapshot in os.listdir(\"/\".join([data_path, date])):\n",
    "    # for pkg_date_snapshot in os.listdir(\"/\".join([data_path, date]))[:5]:\n",
    "        slug = pkg_date_snapshot.replace(f\"{date}_\", \"\").replace(\".json.gz\", \"\")\n",
    "        # try:\n",
    "            # user, repo = slug.split(\"_\", 1)\n",
    "            # user, repo = slug.split(\"_\")\n",
    "        # except ValueError:\n",
    "        #     print(f\"Error with slug: {slug}\")\n",
    "    # for pkg_date_snapshot in os.listdir(\"/\".join([data_path, date])):\n",
    "        full_path = \"/\".join([data_path, date, pkg_date_snapshot])\n",
    "        if full_path.endswith(\".json.gz\"):\n",
    "            with gzip.open(full_path, \"rb\") as f:\n",
    "                stargazer_data = json.load(f)\n",
    "            stars = len(stargazer_data)\n",
    "            # print(stars)\n",
    "            \n",
    "            # data.append([slug, date, stars])\n",
    "            data.append([slug, date, stars])            "
   ]
  },
  {
   "cell_type": "code",
   "execution_count": null,
   "id": "e9b7653b-182f-4e23-a09f-47ca7e467ac5",
   "metadata": {},
   "outputs": [],
   "source": [
    "df = (\n",
    "    pd.DataFrame(data, columns=[\"slug\", \"date\", \"stars\"])\n",
    "    # pd.DataFrame(data, columns=[\"slug\", \"date\", \"user\", \"repo\", \"stars\"])\n",
    "    .sort_values([\"slug\", \"date\"], ignore_index=True)\n",
    ")\n",
    "# df.to_csv(\"repo_stars_timeseries.csv\", index=False)\n",
    "df"
   ]
  },
  {
   "cell_type": "code",
   "execution_count": null,
   "id": "64aa562d-4b5d-4888-9efd-d79e8ca0e148",
   "metadata": {},
   "outputs": [],
   "source": [
    "# # Shows what an empty payload contains:\n",
    "# _path = \"cache_payload/stars/2023-05-28/2023-05-28_7RedViolin_pySigma-backend-sentinelone.json.gz\"\n",
    "# with gzip.open(_path, \"rb\") as f:\n",
    "#     json_data = json.load(f)\n",
    "# json_data"
   ]
  },
  {
   "cell_type": "code",
   "execution_count": null,
   "id": "89c68acd-d7ba-4992-b8d6-92a6cbd9a56e",
   "metadata": {
    "tags": []
   },
   "outputs": [],
   "source": [
    "# # Shows what a (non-empty) payload contains:\n",
    "# _path = \"cache_payload/stars/2023-05-28/2023-05-28_0riion_py-sls-lambda-toolkit.json.gz\"\n",
    "# with gzip.open(_path, \"rb\") as f:\n",
    "#     json_data = json.load(f)\n",
    "# json_data"
   ]
  },
  {
   "cell_type": "code",
   "execution_count": null,
   "id": "7023fbf4-c407-4125-870b-6b2be8d7cc7a",
   "metadata": {},
   "outputs": [],
   "source": [
    "# Read in 100 random sample\n",
    "df_random_sample = (\n",
    "    pd.read_csv(\"../input/random_sample.csv\")\n",
    "    .assign(slug=lambda df: df[\"github\"].str.replace(\"https://github.com/\", \"\"))\n",
    "    .assign(slug=lambda df: df[\"slug\"].apply(lambda x: x[:-1] if x.endswith(\"/\") else x))\n",
    "    .assign(slug=lambda df: df[\"slug\"].str.lower().str.strip())\n",
    "    .assign(fileslug=lambda df: df[\"slug\"].str.replace(\"/\", \"_\"))\n",
    "    .assign(treated=1)\n",
    "    # Assign the two types\n",
    "    .assign(boughtstars=lambda df: (df.index < 25).astype(int))\n",
    "    .assign(treated2=lambda df: df[\"boughtstars\"] + df[\"treated\"])\n",
    ")\n",
    "df_random_sample.head(3)"
   ]
  },
  {
   "cell_type": "code",
   "execution_count": null,
   "id": "723904de-664c-4b57-af8a-3b2a647b3f9a",
   "metadata": {},
   "outputs": [],
   "source": [
    "df.to_csv(\"../output/repo_stars_timeseries.csv\", index=False)"
   ]
  },
  {
   "cell_type": "code",
   "execution_count": null,
   "id": "e57827c5-cb9c-4558-bcb0-9ab2b3b425d3",
   "metadata": {},
   "outputs": [],
   "source": []
  }
 ],
 "metadata": {
  "kernelspec": {
   "display_name": "Python 3 (ipykernel)",
   "language": "python",
   "name": "python3"
  },
  "language_info": {
   "codemirror_mode": {
    "name": "ipython",
    "version": 3
   },
   "file_extension": ".py",
   "mimetype": "text/x-python",
   "name": "python",
   "nbconvert_exporter": "python",
   "pygments_lexer": "ipython3",
   "version": "3.8.10"
  }
 },
 "nbformat": 4,
 "nbformat_minor": 5
}
