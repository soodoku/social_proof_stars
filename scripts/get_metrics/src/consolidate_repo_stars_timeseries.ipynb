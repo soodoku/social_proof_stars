{
 "cells": [
  {
   "cell_type": "code",
   "execution_count": 6,
   "id": "adcf1a42-5ae7-4b3d-8a99-d9138438e04d",
   "metadata": {},
   "outputs": [],
   "source": [
    "import os\n",
    "import pandas as pd\n",
    "import gzip\n",
    "import json\n",
    "from tqdm.notebook import tqdm\n",
    "\n",
    "data_path = \"cache_payload/stars\""
   ]
  },
  {
   "cell_type": "code",
   "execution_count": 41,
   "id": "6354884a-28c1-4f22-bb88-ea9083486bd6",
   "metadata": {
    "tags": []
   },
   "outputs": [],
   "source": [
    "data = []\n",
    "for date in tqdm(os.listdir(data_path)):\n",
    "# for date in os.listdir(data_path)[:2]:\n",
    "    # print(date)\n",
    "    for pkg_date_snapshot in os.listdir(\"/\".join([data_path, date])):\n",
    "    # for pkg_date_snapshot in os.listdir(\"/\".join([data_path, date]))[:5]:\n",
    "        slug = pkg_date_snapshot.replace(f\"{date}_\", \"\").replace(\".json.gz\", \"\")\n",
    "        # try:\n",
    "        #     user, repo = slug.split(\"_\")\n",
    "        # except ValueError:\n",
    "        #     print(f\"Error with slug: {slug}\")\n",
    "    # for pkg_date_snapshot in os.listdir(\"/\".join([data_path, date])):\n",
    "        full_path = \"/\".join([data_path, date, pkg_date_snapshot])\n",
    "        if full_path.endswith(\".json.gz\"):\n",
    "            with gzip.open(full_path, \"rb\") as f:\n",
    "                stargazer_data = json.load(f)\n",
    "            stars = len(stargazer_data)\n",
    "            # print(stars)\n",
    "            \n",
    "            data.append([slug, date, stars])"
   ]
  },
  {
   "cell_type": "code",
   "execution_count": 53,
   "id": "e9b7653b-182f-4e23-a09f-47ca7e467ac5",
   "metadata": {},
   "outputs": [],
   "source": [
    "df = (\n",
    "    pd.DataFrame(data, columns=[\"slug\", \"date\", \"stars\"])\n",
    "    .sort_values([\"slug\", \"date\"], ignore_index=True)\n",
    ")\n",
    "df.to_csv(\"repo_stars_timeseries.csv\", index=False)"
   ]
  },
  {
   "cell_type": "code",
   "execution_count": 1,
   "id": "64aa562d-4b5d-4888-9efd-d79e8ca0e148",
   "metadata": {
    "ExecuteTime": {
     "end_time": "2023-05-28T07:37:08.845399Z",
     "start_time": "2023-05-28T07:37:08.841922Z"
    }
   },
   "outputs": [],
   "source": [
    "# # Shows what an empty payload contains:\n",
    "# _path = \"cache_payload/stars/2023-05-28/2023-05-28_7RedViolin_pySigma-backend-sentinelone.json.gz\"\n",
    "# with gzip.open(_path, \"rb\") as f:\n",
    "#     json_data = json.load(f)\n",
    "# json_data"
   ]
  },
  {
   "cell_type": "code",
   "execution_count": 2,
   "id": "89c68acd-d7ba-4992-b8d6-92a6cbd9a56e",
   "metadata": {
    "ExecuteTime": {
     "end_time": "2023-05-28T07:37:09.035557Z",
     "start_time": "2023-05-28T07:37:09.033079Z"
    },
    "tags": []
   },
   "outputs": [],
   "source": [
    "# # Shows what a (non-empty) payload contains:\n",
    "# _path = \"cache_payload/stars/2023-05-28/2023-05-28_0riion_py-sls-lambda-toolkit.json.gz\"\n",
    "# with gzip.open(_path, \"rb\") as f:\n",
    "#     json_data = json.load(f)\n",
    "# json_data"
   ]
  },
  {
   "cell_type": "code",
   "execution_count": null,
   "id": "7023fbf4-c407-4125-870b-6b2be8d7cc7a",
   "metadata": {},
   "outputs": [],
   "source": []
  }
 ],
 "metadata": {
  "kernelspec": {
   "display_name": "Python 3 (ipykernel)",
   "language": "python",
   "name": "python3"
  },
  "language_info": {
   "codemirror_mode": {
    "name": "ipython",
    "version": 3
   },
   "file_extension": ".py",
   "mimetype": "text/x-python",
   "name": "python",
   "nbconvert_exporter": "python",
   "pygments_lexer": "ipython3",
   "version": "3.10.9"
  },
  "toc": {
   "base_numbering": 1,
   "nav_menu": {},
   "number_sections": true,
   "sideBar": true,
   "skip_h1_title": false,
   "title_cell": "Table of Contents",
   "title_sidebar": "Contents",
   "toc_cell": false,
   "toc_position": {},
   "toc_section_display": true,
   "toc_window_display": false
  }
 },
 "nbformat": 4,
 "nbformat_minor": 5
}
